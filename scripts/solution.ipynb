{
 "cells": [
  {
   "cell_type": "markdown",
   "metadata": {},
   "source": [
    "# Data Exploring\n",
    "This section is for exploring the datasets and clean the datasets before loading to the database for better organizing the data."
   ]
  },
  {
   "cell_type": "code",
   "execution_count": 1,
   "metadata": {},
   "outputs": [],
   "source": [
    "# Importing the libraries\n",
    "import pandas as pd\n",
    "import numpy as np\n",
    "import matplotlib.pyplot as plt\n",
    "import seaborn as sns"
   ]
  },
  {
   "cell_type": "code",
   "execution_count": 2,
   "metadata": {},
   "outputs": [],
   "source": [
    "# Importing the dataset\n",
    "products = pd.read_csv('../data/raw/products.csv')\n",
    "transactions = pd.read_csv('../data/raw/transactions.csv')\n",
    "users = pd.read_csv('../data/raw/users.csv')"
   ]
  },
  {
   "cell_type": "markdown",
   "metadata": {},
   "source": [
    "## Clean users"
   ]
  },
  {
   "cell_type": "code",
   "execution_count": 3,
   "metadata": {},
   "outputs": [
    {
     "data": {
      "text/html": [
       "<div>\n",
       "<style scoped>\n",
       "    .dataframe tbody tr th:only-of-type {\n",
       "        vertical-align: middle;\n",
       "    }\n",
       "\n",
       "    .dataframe tbody tr th {\n",
       "        vertical-align: top;\n",
       "    }\n",
       "\n",
       "    .dataframe thead th {\n",
       "        text-align: right;\n",
       "    }\n",
       "</style>\n",
       "<table border=\"1\" class=\"dataframe\">\n",
       "  <thead>\n",
       "    <tr style=\"text-align: right;\">\n",
       "      <th></th>\n",
       "      <th>ID</th>\n",
       "      <th>CREATED_DATE</th>\n",
       "      <th>BIRTH_DATE</th>\n",
       "      <th>STATE</th>\n",
       "      <th>LANGUAGE</th>\n",
       "      <th>GENDER</th>\n",
       "    </tr>\n",
       "  </thead>\n",
       "  <tbody>\n",
       "    <tr>\n",
       "      <th>0</th>\n",
       "      <td>5ef3b4f17053ab141787697d</td>\n",
       "      <td>2020-06-24 20:17:54.000 Z</td>\n",
       "      <td>2000-08-11 00:00:00.000 Z</td>\n",
       "      <td>CA</td>\n",
       "      <td>es-419</td>\n",
       "      <td>female</td>\n",
       "    </tr>\n",
       "    <tr>\n",
       "      <th>1</th>\n",
       "      <td>5ff220d383fcfc12622b96bc</td>\n",
       "      <td>2021-01-03 19:53:55.000 Z</td>\n",
       "      <td>2001-09-24 04:00:00.000 Z</td>\n",
       "      <td>PA</td>\n",
       "      <td>en</td>\n",
       "      <td>female</td>\n",
       "    </tr>\n",
       "    <tr>\n",
       "      <th>2</th>\n",
       "      <td>6477950aa55bb77a0e27ee10</td>\n",
       "      <td>2023-05-31 18:42:18.000 Z</td>\n",
       "      <td>1994-10-28 00:00:00.000 Z</td>\n",
       "      <td>FL</td>\n",
       "      <td>es-419</td>\n",
       "      <td>female</td>\n",
       "    </tr>\n",
       "    <tr>\n",
       "      <th>3</th>\n",
       "      <td>658a306e99b40f103b63ccf8</td>\n",
       "      <td>2023-12-26 01:46:22.000 Z</td>\n",
       "      <td>NaN</td>\n",
       "      <td>NC</td>\n",
       "      <td>en</td>\n",
       "      <td>NaN</td>\n",
       "    </tr>\n",
       "    <tr>\n",
       "      <th>4</th>\n",
       "      <td>653cf5d6a225ea102b7ecdc2</td>\n",
       "      <td>2023-10-28 11:51:50.000 Z</td>\n",
       "      <td>1972-03-19 00:00:00.000 Z</td>\n",
       "      <td>PA</td>\n",
       "      <td>en</td>\n",
       "      <td>female</td>\n",
       "    </tr>\n",
       "  </tbody>\n",
       "</table>\n",
       "</div>"
      ],
      "text/plain": [
       "                         ID               CREATED_DATE  \\\n",
       "0  5ef3b4f17053ab141787697d  2020-06-24 20:17:54.000 Z   \n",
       "1  5ff220d383fcfc12622b96bc  2021-01-03 19:53:55.000 Z   \n",
       "2  6477950aa55bb77a0e27ee10  2023-05-31 18:42:18.000 Z   \n",
       "3  658a306e99b40f103b63ccf8  2023-12-26 01:46:22.000 Z   \n",
       "4  653cf5d6a225ea102b7ecdc2  2023-10-28 11:51:50.000 Z   \n",
       "\n",
       "                  BIRTH_DATE STATE LANGUAGE  GENDER  \n",
       "0  2000-08-11 00:00:00.000 Z    CA   es-419  female  \n",
       "1  2001-09-24 04:00:00.000 Z    PA       en  female  \n",
       "2  1994-10-28 00:00:00.000 Z    FL   es-419  female  \n",
       "3                        NaN    NC       en     NaN  \n",
       "4  1972-03-19 00:00:00.000 Z    PA       en  female  "
      ]
     },
     "execution_count": 3,
     "metadata": {},
     "output_type": "execute_result"
    }
   ],
   "source": [
    "# Check users\n",
    "users.head()"
   ]
  },
  {
   "cell_type": "code",
   "execution_count": 56,
   "metadata": {},
   "outputs": [
    {
     "name": "stdout",
     "output_type": "stream",
     "text": [
      "<class 'pandas.core.frame.DataFrame'>\n",
      "RangeIndex: 100000 entries, 0 to 99999\n",
      "Data columns (total 6 columns):\n",
      " #   Column        Non-Null Count   Dtype \n",
      "---  ------        --------------   ----- \n",
      " 0   ID            100000 non-null  object\n",
      " 1   CREATED_DATE  100000 non-null  object\n",
      " 2   BIRTH_DATE    96325 non-null   object\n",
      " 3   STATE         95188 non-null   object\n",
      " 4   LANGUAGE      69492 non-null   object\n",
      " 5   GENDER        94108 non-null   object\n",
      "dtypes: object(6)\n",
      "memory usage: 4.6+ MB\n"
     ]
    }
   ],
   "source": [
    "# Check users info\n",
    "users.info()"
   ]
  },
  {
   "cell_type": "code",
   "execution_count": 57,
   "metadata": {},
   "outputs": [
    {
     "name": "stdout",
     "output_type": "stream",
     "text": [
      "<class 'pandas.core.frame.DataFrame'>\n",
      "RangeIndex: 100000 entries, 0 to 99999\n",
      "Data columns (total 6 columns):\n",
      " #   Column        Non-Null Count   Dtype         \n",
      "---  ------        --------------   -----         \n",
      " 0   ID            100000 non-null  object        \n",
      " 1   CREATED_DATE  100000 non-null  datetime64[ns]\n",
      " 2   BIRTH_DATE    96325 non-null   datetime64[ns]\n",
      " 3   STATE         95188 non-null   object        \n",
      " 4   LANGUAGE      69492 non-null   object        \n",
      " 5   GENDER        94108 non-null   object        \n",
      "dtypes: datetime64[ns](2), object(4)\n",
      "memory usage: 4.6+ MB\n"
     ]
    }
   ],
   "source": [
    "# Remove \" Z\" from end of date\n",
    "users['CREATED_DATE'] = users['CREATED_DATE'].str.replace(' Z', '')\n",
    "users['BIRTH_DATE'] = users['BIRTH_DATE'].str.replace(' Z', '')\n",
    "\n",
    "# Convert to datetime\n",
    "users['CREATED_DATE'] = pd.to_datetime(users['CREATED_DATE'])\n",
    "users['BIRTH_DATE'] = pd.to_datetime(users['BIRTH_DATE'])\n",
    "\n",
    "users.info()"
   ]
  },
  {
   "cell_type": "code",
   "execution_count": 4,
   "metadata": {},
   "outputs": [
    {
     "data": {
      "text/html": [
       "<div>\n",
       "<style scoped>\n",
       "    .dataframe tbody tr th:only-of-type {\n",
       "        vertical-align: middle;\n",
       "    }\n",
       "\n",
       "    .dataframe tbody tr th {\n",
       "        vertical-align: top;\n",
       "    }\n",
       "\n",
       "    .dataframe thead th {\n",
       "        text-align: right;\n",
       "    }\n",
       "</style>\n",
       "<table border=\"1\" class=\"dataframe\">\n",
       "  <thead>\n",
       "    <tr style=\"text-align: right;\">\n",
       "      <th></th>\n",
       "      <th>ID</th>\n",
       "      <th>CREATED_DATE</th>\n",
       "      <th>BIRTH_DATE</th>\n",
       "      <th>STATE</th>\n",
       "      <th>LANGUAGE</th>\n",
       "      <th>GENDER</th>\n",
       "    </tr>\n",
       "  </thead>\n",
       "  <tbody>\n",
       "  </tbody>\n",
       "</table>\n",
       "</div>"
      ],
      "text/plain": [
       "Empty DataFrame\n",
       "Columns: [ID, CREATED_DATE, BIRTH_DATE, STATE, LANGUAGE, GENDER]\n",
       "Index: []"
      ]
     },
     "execution_count": 4,
     "metadata": {},
     "output_type": "execute_result"
    }
   ],
   "source": [
    "# Check for unusual dates\n",
    "users[users['CREATED_DATE'] < '2013-01-01']"
   ]
  },
  {
   "cell_type": "code",
   "execution_count": 58,
   "metadata": {},
   "outputs": [
    {
     "data": {
      "text/plain": [
       "ID                  0\n",
       "CREATED_DATE        0\n",
       "BIRTH_DATE       3675\n",
       "STATE            4812\n",
       "LANGUAGE        30508\n",
       "GENDER           5892\n",
       "dtype: int64"
      ]
     },
     "execution_count": 58,
     "metadata": {},
     "output_type": "execute_result"
    }
   ],
   "source": [
    "# Change \"NaN\" or \"nan\" to np.nan\n",
    "users = users.replace('NaN', np.nan)\n",
    "users = users.replace('nan', np.nan)\n",
    "\n",
    "# Check for missing values\n",
    "users.isnull().sum()"
   ]
  },
  {
   "cell_type": "code",
   "execution_count": 59,
   "metadata": {},
   "outputs": [
    {
     "data": {
      "text/plain": [
       "0"
      ]
     },
     "execution_count": 59,
     "metadata": {},
     "output_type": "execute_result"
    }
   ],
   "source": [
    "# Check for duplicates\n",
    "users.duplicated().sum()"
   ]
  },
  {
   "cell_type": "code",
   "execution_count": 60,
   "metadata": {},
   "outputs": [
    {
     "data": {
      "text/plain": [
       "0"
      ]
     },
     "execution_count": 60,
     "metadata": {},
     "output_type": "execute_result"
    }
   ],
   "source": [
    "# Check duplicated id in users\n",
    "users['ID'].duplicated().sum()"
   ]
  },
  {
   "cell_type": "code",
   "execution_count": 61,
   "metadata": {},
   "outputs": [
    {
     "data": {
      "text/plain": [
       "0"
      ]
     },
     "execution_count": 61,
     "metadata": {},
     "output_type": "execute_result"
    }
   ],
   "source": [
    "# Check null values in id\n",
    "users['ID'].isnull().sum()"
   ]
  },
  {
   "cell_type": "code",
   "execution_count": 62,
   "metadata": {},
   "outputs": [
    {
     "name": "stdout",
     "output_type": "stream",
     "text": [
      "<class 'pandas.core.frame.DataFrame'>\n",
      "RangeIndex: 100000 entries, 0 to 99999\n",
      "Data columns (total 6 columns):\n",
      " #   Column        Non-Null Count   Dtype         \n",
      "---  ------        --------------   -----         \n",
      " 0   ID            100000 non-null  object        \n",
      " 1   CREATED_DATE  100000 non-null  datetime64[ns]\n",
      " 2   BIRTH_DATE    96325 non-null   datetime64[ns]\n",
      " 3   STATE         95188 non-null   object        \n",
      " 4   LANGUAGE      69492 non-null   object        \n",
      " 5   GENDER        94108 non-null   object        \n",
      "dtypes: datetime64[ns](2), object(4)\n",
      "memory usage: 4.6+ MB\n"
     ]
    }
   ],
   "source": [
    "users.info()"
   ]
  },
  {
   "cell_type": "code",
   "execution_count": 63,
   "metadata": {},
   "outputs": [
    {
     "data": {
      "text/html": [
       "<div>\n",
       "<style scoped>\n",
       "    .dataframe tbody tr th:only-of-type {\n",
       "        vertical-align: middle;\n",
       "    }\n",
       "\n",
       "    .dataframe tbody tr th {\n",
       "        vertical-align: top;\n",
       "    }\n",
       "\n",
       "    .dataframe thead th {\n",
       "        text-align: right;\n",
       "    }\n",
       "</style>\n",
       "<table border=\"1\" class=\"dataframe\">\n",
       "  <thead>\n",
       "    <tr style=\"text-align: right;\">\n",
       "      <th></th>\n",
       "      <th>ID</th>\n",
       "      <th>CREATED_DATE</th>\n",
       "      <th>BIRTH_DATE</th>\n",
       "      <th>STATE</th>\n",
       "      <th>LANGUAGE</th>\n",
       "      <th>GENDER</th>\n",
       "    </tr>\n",
       "  </thead>\n",
       "  <tbody>\n",
       "    <tr>\n",
       "      <th>0</th>\n",
       "      <td>5ef3b4f17053ab141787697d</td>\n",
       "      <td>2020-06-24 20:17:54</td>\n",
       "      <td>2000-08-11 00:00:00</td>\n",
       "      <td>CA</td>\n",
       "      <td>es-419</td>\n",
       "      <td>female</td>\n",
       "    </tr>\n",
       "    <tr>\n",
       "      <th>1</th>\n",
       "      <td>5ff220d383fcfc12622b96bc</td>\n",
       "      <td>2021-01-03 19:53:55</td>\n",
       "      <td>2001-09-24 04:00:00</td>\n",
       "      <td>PA</td>\n",
       "      <td>en</td>\n",
       "      <td>female</td>\n",
       "    </tr>\n",
       "    <tr>\n",
       "      <th>2</th>\n",
       "      <td>6477950aa55bb77a0e27ee10</td>\n",
       "      <td>2023-05-31 18:42:18</td>\n",
       "      <td>1994-10-28 00:00:00</td>\n",
       "      <td>FL</td>\n",
       "      <td>es-419</td>\n",
       "      <td>female</td>\n",
       "    </tr>\n",
       "    <tr>\n",
       "      <th>3</th>\n",
       "      <td>658a306e99b40f103b63ccf8</td>\n",
       "      <td>2023-12-26 01:46:22</td>\n",
       "      <td>NaT</td>\n",
       "      <td>NC</td>\n",
       "      <td>en</td>\n",
       "      <td>NaN</td>\n",
       "    </tr>\n",
       "    <tr>\n",
       "      <th>4</th>\n",
       "      <td>653cf5d6a225ea102b7ecdc2</td>\n",
       "      <td>2023-10-28 11:51:50</td>\n",
       "      <td>1972-03-19 00:00:00</td>\n",
       "      <td>PA</td>\n",
       "      <td>en</td>\n",
       "      <td>female</td>\n",
       "    </tr>\n",
       "  </tbody>\n",
       "</table>\n",
       "</div>"
      ],
      "text/plain": [
       "                         ID        CREATED_DATE          BIRTH_DATE STATE  \\\n",
       "0  5ef3b4f17053ab141787697d 2020-06-24 20:17:54 2000-08-11 00:00:00    CA   \n",
       "1  5ff220d383fcfc12622b96bc 2021-01-03 19:53:55 2001-09-24 04:00:00    PA   \n",
       "2  6477950aa55bb77a0e27ee10 2023-05-31 18:42:18 1994-10-28 00:00:00    FL   \n",
       "3  658a306e99b40f103b63ccf8 2023-12-26 01:46:22                 NaT    NC   \n",
       "4  653cf5d6a225ea102b7ecdc2 2023-10-28 11:51:50 1972-03-19 00:00:00    PA   \n",
       "\n",
       "  LANGUAGE  GENDER  \n",
       "0   es-419  female  \n",
       "1       en  female  \n",
       "2   es-419  female  \n",
       "3       en     NaN  \n",
       "4       en  female  "
      ]
     },
     "execution_count": 63,
     "metadata": {},
     "output_type": "execute_result"
    }
   ],
   "source": [
    "users.head()"
   ]
  },
  {
   "cell_type": "code",
   "execution_count": 64,
   "metadata": {},
   "outputs": [
    {
     "data": {
      "text/plain": [
       "100000"
      ]
     },
     "execution_count": 64,
     "metadata": {},
     "output_type": "execute_result"
    }
   ],
   "source": [
    "# Check for uniqueness in ID\n",
    "users['ID'].nunique()"
   ]
  },
  {
   "cell_type": "code",
   "execution_count": 65,
   "metadata": {},
   "outputs": [],
   "source": [
    "users = users.fillna('')"
   ]
  },
  {
   "cell_type": "code",
   "execution_count": 66,
   "metadata": {},
   "outputs": [],
   "source": [
    "# Save to users_cleaned.csv\n",
    "users.to_csv('../data/processed/users_cleaned.csv', index=False, header=True)"
   ]
  },
  {
   "cell_type": "markdown",
   "metadata": {},
   "source": [
    "## Clean products"
   ]
  },
  {
   "cell_type": "code",
   "execution_count": 67,
   "metadata": {},
   "outputs": [
    {
     "data": {
      "text/html": [
       "<div>\n",
       "<style scoped>\n",
       "    .dataframe tbody tr th:only-of-type {\n",
       "        vertical-align: middle;\n",
       "    }\n",
       "\n",
       "    .dataframe tbody tr th {\n",
       "        vertical-align: top;\n",
       "    }\n",
       "\n",
       "    .dataframe thead th {\n",
       "        text-align: right;\n",
       "    }\n",
       "</style>\n",
       "<table border=\"1\" class=\"dataframe\">\n",
       "  <thead>\n",
       "    <tr style=\"text-align: right;\">\n",
       "      <th></th>\n",
       "      <th>CATEGORY_1</th>\n",
       "      <th>CATEGORY_2</th>\n",
       "      <th>CATEGORY_3</th>\n",
       "      <th>CATEGORY_4</th>\n",
       "      <th>MANUFACTURER</th>\n",
       "      <th>BRAND</th>\n",
       "      <th>BARCODE</th>\n",
       "    </tr>\n",
       "  </thead>\n",
       "  <tbody>\n",
       "    <tr>\n",
       "      <th>0</th>\n",
       "      <td>Health &amp; Wellness</td>\n",
       "      <td>Sexual Health</td>\n",
       "      <td>Conductivity Gels &amp; Lotions</td>\n",
       "      <td>NaN</td>\n",
       "      <td>NaN</td>\n",
       "      <td>NaN</td>\n",
       "      <td>7.964944e+11</td>\n",
       "    </tr>\n",
       "    <tr>\n",
       "      <th>1</th>\n",
       "      <td>Snacks</td>\n",
       "      <td>Puffed Snacks</td>\n",
       "      <td>Cheese Curls &amp; Puffs</td>\n",
       "      <td>NaN</td>\n",
       "      <td>NaN</td>\n",
       "      <td>NaN</td>\n",
       "      <td>2.327801e+10</td>\n",
       "    </tr>\n",
       "    <tr>\n",
       "      <th>2</th>\n",
       "      <td>Health &amp; Wellness</td>\n",
       "      <td>Hair Care</td>\n",
       "      <td>Hair Care Accessories</td>\n",
       "      <td>NaN</td>\n",
       "      <td>PLACEHOLDER MANUFACTURER</td>\n",
       "      <td>ELECSOP</td>\n",
       "      <td>4.618178e+11</td>\n",
       "    </tr>\n",
       "    <tr>\n",
       "      <th>3</th>\n",
       "      <td>Health &amp; Wellness</td>\n",
       "      <td>Oral Care</td>\n",
       "      <td>Toothpaste</td>\n",
       "      <td>NaN</td>\n",
       "      <td>COLGATE-PALMOLIVE</td>\n",
       "      <td>COLGATE</td>\n",
       "      <td>3.500047e+10</td>\n",
       "    </tr>\n",
       "    <tr>\n",
       "      <th>4</th>\n",
       "      <td>Health &amp; Wellness</td>\n",
       "      <td>Medicines &amp; Treatments</td>\n",
       "      <td>Essential Oils</td>\n",
       "      <td>NaN</td>\n",
       "      <td>MAPLE HOLISTICS AND HONEYDEW PRODUCTS INTERCHA...</td>\n",
       "      <td>MAPLE HOLISTICS</td>\n",
       "      <td>8.068109e+11</td>\n",
       "    </tr>\n",
       "  </tbody>\n",
       "</table>\n",
       "</div>"
      ],
      "text/plain": [
       "          CATEGORY_1              CATEGORY_2                   CATEGORY_3  \\\n",
       "0  Health & Wellness           Sexual Health  Conductivity Gels & Lotions   \n",
       "1             Snacks           Puffed Snacks         Cheese Curls & Puffs   \n",
       "2  Health & Wellness               Hair Care        Hair Care Accessories   \n",
       "3  Health & Wellness               Oral Care                   Toothpaste   \n",
       "4  Health & Wellness  Medicines & Treatments               Essential Oils   \n",
       "\n",
       "  CATEGORY_4                                       MANUFACTURER  \\\n",
       "0        NaN                                                NaN   \n",
       "1        NaN                                                NaN   \n",
       "2        NaN                           PLACEHOLDER MANUFACTURER   \n",
       "3        NaN                                  COLGATE-PALMOLIVE   \n",
       "4        NaN  MAPLE HOLISTICS AND HONEYDEW PRODUCTS INTERCHA...   \n",
       "\n",
       "             BRAND       BARCODE  \n",
       "0              NaN  7.964944e+11  \n",
       "1              NaN  2.327801e+10  \n",
       "2          ELECSOP  4.618178e+11  \n",
       "3          COLGATE  3.500047e+10  \n",
       "4  MAPLE HOLISTICS  8.068109e+11  "
      ]
     },
     "execution_count": 67,
     "metadata": {},
     "output_type": "execute_result"
    }
   ],
   "source": [
    "products.head()"
   ]
  },
  {
   "cell_type": "code",
   "execution_count": 68,
   "metadata": {},
   "outputs": [
    {
     "name": "stdout",
     "output_type": "stream",
     "text": [
      "<class 'pandas.core.frame.DataFrame'>\n",
      "RangeIndex: 845552 entries, 0 to 845551\n",
      "Data columns (total 7 columns):\n",
      " #   Column        Non-Null Count   Dtype  \n",
      "---  ------        --------------   -----  \n",
      " 0   CATEGORY_1    845441 non-null  object \n",
      " 1   CATEGORY_2    844128 non-null  object \n",
      " 2   CATEGORY_3    784986 non-null  object \n",
      " 3   CATEGORY_4    67459 non-null   object \n",
      " 4   MANUFACTURER  619078 non-null  object \n",
      " 5   BRAND         619080 non-null  object \n",
      " 6   BARCODE       841527 non-null  float64\n",
      "dtypes: float64(1), object(6)\n",
      "memory usage: 45.2+ MB\n"
     ]
    }
   ],
   "source": [
    "# Checking the data\n",
    "products.info()"
   ]
  },
  {
   "cell_type": "code",
   "execution_count": 69,
   "metadata": {},
   "outputs": [
    {
     "name": "stdout",
     "output_type": "stream",
     "text": [
      "<class 'pandas.core.frame.DataFrame'>\n",
      "RangeIndex: 845552 entries, 0 to 845551\n",
      "Data columns (total 7 columns):\n",
      " #   Column        Non-Null Count   Dtype \n",
      "---  ------        --------------   ----- \n",
      " 0   CATEGORY_1    845441 non-null  object\n",
      " 1   CATEGORY_2    844128 non-null  object\n",
      " 2   CATEGORY_3    784986 non-null  object\n",
      " 3   CATEGORY_4    67459 non-null   object\n",
      " 4   MANUFACTURER  619078 non-null  object\n",
      " 5   BRAND         619080 non-null  object\n",
      " 6   BARCODE       845552 non-null  object\n",
      "dtypes: object(7)\n",
      "memory usage: 45.2+ MB\n"
     ]
    }
   ],
   "source": [
    "# Change data type of barcode to string\n",
    "products['BARCODE'] = products['BARCODE'].astype(str)\n",
    "\n",
    "# Checking the data\n",
    "products.info()"
   ]
  },
  {
   "cell_type": "code",
   "execution_count": 70,
   "metadata": {},
   "outputs": [
    {
     "data": {
      "text/plain": [
       "(845552, 7)"
      ]
     },
     "execution_count": 70,
     "metadata": {},
     "output_type": "execute_result"
    }
   ],
   "source": [
    "# Checking the shape of the data\n",
    "products.shape"
   ]
  },
  {
   "cell_type": "code",
   "execution_count": 71,
   "metadata": {},
   "outputs": [
    {
     "name": "stdout",
     "output_type": "stream",
     "text": [
      "<class 'pandas.core.frame.DataFrame'>\n",
      "Index: 845337 entries, 0 to 845551\n",
      "Data columns (total 7 columns):\n",
      " #   Column        Non-Null Count   Dtype \n",
      "---  ------        --------------   ----- \n",
      " 0   CATEGORY_1    845226 non-null  object\n",
      " 1   CATEGORY_2    843915 non-null  object\n",
      " 2   CATEGORY_3    784774 non-null  object\n",
      " 3   CATEGORY_4    67453 non-null   object\n",
      " 4   MANUFACTURER  618873 non-null  object\n",
      " 5   BRAND         618875 non-null  object\n",
      " 6   BARCODE       841369 non-null  object\n",
      "dtypes: object(7)\n",
      "memory usage: 51.6+ MB\n"
     ]
    }
   ],
   "source": [
    "# Strip the leading and trailing spaces for all columns\n",
    "products = products.apply(lambda x: x.str.strip() if x.dtype == \"object\" else x)\n",
    "\n",
    "# Change all value as \"nan\" or \"NaN\" to null\n",
    "products = products.replace(['nan', 'NaN', ''], np.nan)\n",
    "\n",
    "# Remove duplicates\n",
    "products = products.drop_duplicates()\n",
    "\n",
    "# Checking the data\n",
    "products.info()"
   ]
  },
  {
   "cell_type": "code",
   "execution_count": 72,
   "metadata": {},
   "outputs": [
    {
     "data": {
      "text/plain": [
       "(845337, 7)"
      ]
     },
     "execution_count": 72,
     "metadata": {},
     "output_type": "execute_result"
    }
   ],
   "source": [
    "# Check the shape of products\n",
    "products.shape"
   ]
  },
  {
   "cell_type": "code",
   "execution_count": 73,
   "metadata": {},
   "outputs": [
    {
     "data": {
      "text/html": [
       "<div>\n",
       "<style scoped>\n",
       "    .dataframe tbody tr th:only-of-type {\n",
       "        vertical-align: middle;\n",
       "    }\n",
       "\n",
       "    .dataframe tbody tr th {\n",
       "        vertical-align: top;\n",
       "    }\n",
       "\n",
       "    .dataframe thead th {\n",
       "        text-align: right;\n",
       "    }\n",
       "</style>\n",
       "<table border=\"1\" class=\"dataframe\">\n",
       "  <thead>\n",
       "    <tr style=\"text-align: right;\">\n",
       "      <th></th>\n",
       "      <th>CATEGORY_1</th>\n",
       "      <th>CATEGORY_2</th>\n",
       "      <th>CATEGORY_3</th>\n",
       "      <th>CATEGORY_4</th>\n",
       "      <th>MANUFACTURER</th>\n",
       "      <th>BRAND</th>\n",
       "      <th>BARCODE</th>\n",
       "    </tr>\n",
       "  </thead>\n",
       "  <tbody>\n",
       "    <tr>\n",
       "      <th>count</th>\n",
       "      <td>845226</td>\n",
       "      <td>843915</td>\n",
       "      <td>784774</td>\n",
       "      <td>67453</td>\n",
       "      <td>618873</td>\n",
       "      <td>618875</td>\n",
       "      <td>841369</td>\n",
       "    </tr>\n",
       "    <tr>\n",
       "      <th>unique</th>\n",
       "      <td>27</td>\n",
       "      <td>121</td>\n",
       "      <td>344</td>\n",
       "      <td>127</td>\n",
       "      <td>4354</td>\n",
       "      <td>8122</td>\n",
       "      <td>841342</td>\n",
       "    </tr>\n",
       "    <tr>\n",
       "      <th>top</th>\n",
       "      <td>Health &amp; Wellness</td>\n",
       "      <td>Candy</td>\n",
       "      <td>Confection Candy</td>\n",
       "      <td>Lip Balms</td>\n",
       "      <td>PLACEHOLDER MANUFACTURER</td>\n",
       "      <td>REM BRAND</td>\n",
       "      <td>40111216.0</td>\n",
       "    </tr>\n",
       "    <tr>\n",
       "      <th>freq</th>\n",
       "      <td>512686</td>\n",
       "      <td>120898</td>\n",
       "      <td>56951</td>\n",
       "      <td>9737</td>\n",
       "      <td>86900</td>\n",
       "      <td>20813</td>\n",
       "      <td>2</td>\n",
       "    </tr>\n",
       "  </tbody>\n",
       "</table>\n",
       "</div>"
      ],
      "text/plain": [
       "               CATEGORY_1 CATEGORY_2        CATEGORY_3 CATEGORY_4  \\\n",
       "count              845226     843915            784774      67453   \n",
       "unique                 27        121               344        127   \n",
       "top     Health & Wellness      Candy  Confection Candy  Lip Balms   \n",
       "freq               512686     120898             56951       9737   \n",
       "\n",
       "                    MANUFACTURER      BRAND     BARCODE  \n",
       "count                     618873     618875      841369  \n",
       "unique                      4354       8122      841342  \n",
       "top     PLACEHOLDER MANUFACTURER  REM BRAND  40111216.0  \n",
       "freq                       86900      20813           2  "
      ]
     },
     "execution_count": 73,
     "metadata": {},
     "output_type": "execute_result"
    }
   ],
   "source": [
    "# Descriptive statistics\n",
    "products.describe()"
   ]
  },
  {
   "cell_type": "code",
   "execution_count": 74,
   "metadata": {},
   "outputs": [
    {
     "data": {
      "text/plain": [
       "CATEGORY_1         111\n",
       "CATEGORY_2        1422\n",
       "CATEGORY_3       60563\n",
       "CATEGORY_4      777884\n",
       "MANUFACTURER    226464\n",
       "BRAND           226462\n",
       "BARCODE           3968\n",
       "dtype: int64"
      ]
     },
     "execution_count": 74,
     "metadata": {},
     "output_type": "execute_result"
    }
   ],
   "source": [
    "# Checking for missing values\n",
    "products.isnull().sum()"
   ]
  },
  {
   "cell_type": "code",
   "execution_count": 75,
   "metadata": {},
   "outputs": [
    {
     "data": {
      "text/plain": [
       "CATEGORY_1          27\n",
       "CATEGORY_2         121\n",
       "CATEGORY_3         344\n",
       "CATEGORY_4         127\n",
       "MANUFACTURER      4354\n",
       "BRAND             8122\n",
       "BARCODE         841342\n",
       "dtype: int64"
      ]
     },
     "execution_count": 75,
     "metadata": {},
     "output_type": "execute_result"
    }
   ],
   "source": [
    "# Checking for uniqueness of each column\n",
    "products.nunique()"
   ]
  },
  {
   "cell_type": "code",
   "execution_count": 76,
   "metadata": {},
   "outputs": [
    {
     "data": {
      "text/plain": [
       "3994"
      ]
     },
     "execution_count": 76,
     "metadata": {},
     "output_type": "execute_result"
    }
   ],
   "source": [
    "# Checking for duplicated barcodes\n",
    "products['BARCODE'].duplicated().sum()"
   ]
  },
  {
   "cell_type": "code",
   "execution_count": 77,
   "metadata": {},
   "outputs": [
    {
     "data": {
      "text/html": [
       "<div>\n",
       "<style scoped>\n",
       "    .dataframe tbody tr th:only-of-type {\n",
       "        vertical-align: middle;\n",
       "    }\n",
       "\n",
       "    .dataframe tbody tr th {\n",
       "        vertical-align: top;\n",
       "    }\n",
       "\n",
       "    .dataframe thead th {\n",
       "        text-align: right;\n",
       "    }\n",
       "</style>\n",
       "<table border=\"1\" class=\"dataframe\">\n",
       "  <thead>\n",
       "    <tr style=\"text-align: right;\">\n",
       "      <th></th>\n",
       "      <th>CATEGORY_1</th>\n",
       "      <th>CATEGORY_2</th>\n",
       "      <th>CATEGORY_3</th>\n",
       "      <th>CATEGORY_4</th>\n",
       "      <th>MANUFACTURER</th>\n",
       "      <th>BRAND</th>\n",
       "      <th>BARCODE</th>\n",
       "    </tr>\n",
       "  </thead>\n",
       "  <tbody>\n",
       "    <tr>\n",
       "      <th>428256</th>\n",
       "      <td>Health &amp; Wellness</td>\n",
       "      <td>Skin Care</td>\n",
       "      <td>Facial Lotion &amp; Moisturizer</td>\n",
       "      <td>NaN</td>\n",
       "      <td>R.M. PALMER COMPANY, LLC</td>\n",
       "      <td>PALMER</td>\n",
       "      <td>1018158.0</td>\n",
       "    </tr>\n",
       "    <tr>\n",
       "      <th>123194</th>\n",
       "      <td>Health &amp; Wellness</td>\n",
       "      <td>Skin Care</td>\n",
       "      <td>Lip Balms &amp; Treatments</td>\n",
       "      <td>Medicated Lip Treatments</td>\n",
       "      <td>E.T. BROWNE DRUG CO., INC.</td>\n",
       "      <td>PALMER'S SKIN &amp; HAIR CARE</td>\n",
       "      <td>1018158.0</td>\n",
       "    </tr>\n",
       "    <tr>\n",
       "      <th>304021</th>\n",
       "      <td>Health &amp; Wellness</td>\n",
       "      <td>Hair Care</td>\n",
       "      <td>Hair Color</td>\n",
       "      <td>NaN</td>\n",
       "      <td>HENKEL</td>\n",
       "      <td>GÖT2B</td>\n",
       "      <td>17000329260.0</td>\n",
       "    </tr>\n",
       "    <tr>\n",
       "      <th>213340</th>\n",
       "      <td>Health &amp; Wellness</td>\n",
       "      <td>Hair Care</td>\n",
       "      <td>Hair Color</td>\n",
       "      <td>NaN</td>\n",
       "      <td>HENKEL</td>\n",
       "      <td>SCHWARZKOPF</td>\n",
       "      <td>17000329260.0</td>\n",
       "    </tr>\n",
       "    <tr>\n",
       "      <th>783021</th>\n",
       "      <td>Snacks</td>\n",
       "      <td>Cookies</td>\n",
       "      <td>NaN</td>\n",
       "      <td>NaN</td>\n",
       "      <td>PLACEHOLDER MANUFACTURER</td>\n",
       "      <td>PRIVATE LABEL</td>\n",
       "      <td>20031077.0</td>\n",
       "    </tr>\n",
       "  </tbody>\n",
       "</table>\n",
       "</div>"
      ],
      "text/plain": [
       "               CATEGORY_1 CATEGORY_2                   CATEGORY_3  \\\n",
       "428256  Health & Wellness  Skin Care  Facial Lotion & Moisturizer   \n",
       "123194  Health & Wellness  Skin Care       Lip Balms & Treatments   \n",
       "304021  Health & Wellness  Hair Care                   Hair Color   \n",
       "213340  Health & Wellness  Hair Care                   Hair Color   \n",
       "783021             Snacks    Cookies                          NaN   \n",
       "\n",
       "                      CATEGORY_4                MANUFACTURER  \\\n",
       "428256                       NaN    R.M. PALMER COMPANY, LLC   \n",
       "123194  Medicated Lip Treatments  E.T. BROWNE DRUG CO., INC.   \n",
       "304021                       NaN                      HENKEL   \n",
       "213340                       NaN                      HENKEL   \n",
       "783021                       NaN    PLACEHOLDER MANUFACTURER   \n",
       "\n",
       "                            BRAND        BARCODE  \n",
       "428256                     PALMER      1018158.0  \n",
       "123194  PALMER'S SKIN & HAIR CARE      1018158.0  \n",
       "304021                      GÖT2B  17000329260.0  \n",
       "213340                SCHWARZKOPF  17000329260.0  \n",
       "783021              PRIVATE LABEL     20031077.0  "
      ]
     },
     "execution_count": 77,
     "metadata": {},
     "output_type": "execute_result"
    }
   ],
   "source": [
    "# List the duplicated barcodes order by barcode\n",
    "products[products['BARCODE'].duplicated(keep=False)].sort_values('BARCODE').head()"
   ]
  },
  {
   "cell_type": "code",
   "execution_count": 78,
   "metadata": {},
   "outputs": [
    {
     "data": {
      "text/html": [
       "<div>\n",
       "<style scoped>\n",
       "    .dataframe tbody tr th:only-of-type {\n",
       "        vertical-align: middle;\n",
       "    }\n",
       "\n",
       "    .dataframe tbody tr th {\n",
       "        vertical-align: top;\n",
       "    }\n",
       "\n",
       "    .dataframe thead th {\n",
       "        text-align: right;\n",
       "    }\n",
       "</style>\n",
       "<table border=\"1\" class=\"dataframe\">\n",
       "  <thead>\n",
       "    <tr style=\"text-align: right;\">\n",
       "      <th></th>\n",
       "      <th>CATEGORY_1</th>\n",
       "      <th>CATEGORY_2</th>\n",
       "      <th>CATEGORY_3</th>\n",
       "      <th>CATEGORY_4</th>\n",
       "      <th>MANUFACTURER</th>\n",
       "      <th>BRAND</th>\n",
       "      <th>BARCODE</th>\n",
       "    </tr>\n",
       "  </thead>\n",
       "  <tbody>\n",
       "    <tr>\n",
       "      <th>428256</th>\n",
       "      <td>Health &amp; Wellness</td>\n",
       "      <td>Skin Care</td>\n",
       "      <td>Facial Lotion &amp; Moisturizer</td>\n",
       "      <td>NaN</td>\n",
       "      <td>R.M. PALMER COMPANY, LLC</td>\n",
       "      <td>PALMER</td>\n",
       "      <td>1018158.0</td>\n",
       "    </tr>\n",
       "    <tr>\n",
       "      <th>123194</th>\n",
       "      <td>Health &amp; Wellness</td>\n",
       "      <td>Skin Care</td>\n",
       "      <td>Lip Balms &amp; Treatments</td>\n",
       "      <td>Medicated Lip Treatments</td>\n",
       "      <td>E.T. BROWNE DRUG CO., INC.</td>\n",
       "      <td>PALMER'S SKIN &amp; HAIR CARE</td>\n",
       "      <td>1018158.0</td>\n",
       "    </tr>\n",
       "    <tr>\n",
       "      <th>304021</th>\n",
       "      <td>Health &amp; Wellness</td>\n",
       "      <td>Hair Care</td>\n",
       "      <td>Hair Color</td>\n",
       "      <td>NaN</td>\n",
       "      <td>HENKEL</td>\n",
       "      <td>GÖT2B</td>\n",
       "      <td>17000329260.0</td>\n",
       "    </tr>\n",
       "    <tr>\n",
       "      <th>213340</th>\n",
       "      <td>Health &amp; Wellness</td>\n",
       "      <td>Hair Care</td>\n",
       "      <td>Hair Color</td>\n",
       "      <td>NaN</td>\n",
       "      <td>HENKEL</td>\n",
       "      <td>SCHWARZKOPF</td>\n",
       "      <td>17000329260.0</td>\n",
       "    </tr>\n",
       "    <tr>\n",
       "      <th>783021</th>\n",
       "      <td>Snacks</td>\n",
       "      <td>Cookies</td>\n",
       "      <td>NaN</td>\n",
       "      <td>NaN</td>\n",
       "      <td>PLACEHOLDER MANUFACTURER</td>\n",
       "      <td>PRIVATE LABEL</td>\n",
       "      <td>20031077.0</td>\n",
       "    </tr>\n",
       "  </tbody>\n",
       "</table>\n",
       "</div>"
      ],
      "text/plain": [
       "               CATEGORY_1 CATEGORY_2                   CATEGORY_3  \\\n",
       "428256  Health & Wellness  Skin Care  Facial Lotion & Moisturizer   \n",
       "123194  Health & Wellness  Skin Care       Lip Balms & Treatments   \n",
       "304021  Health & Wellness  Hair Care                   Hair Color   \n",
       "213340  Health & Wellness  Hair Care                   Hair Color   \n",
       "783021             Snacks    Cookies                          NaN   \n",
       "\n",
       "                      CATEGORY_4                MANUFACTURER  \\\n",
       "428256                       NaN    R.M. PALMER COMPANY, LLC   \n",
       "123194  Medicated Lip Treatments  E.T. BROWNE DRUG CO., INC.   \n",
       "304021                       NaN                      HENKEL   \n",
       "213340                       NaN                      HENKEL   \n",
       "783021                       NaN    PLACEHOLDER MANUFACTURER   \n",
       "\n",
       "                            BRAND        BARCODE  \n",
       "428256                     PALMER      1018158.0  \n",
       "123194  PALMER'S SKIN & HAIR CARE      1018158.0  \n",
       "304021                      GÖT2B  17000329260.0  \n",
       "213340                SCHWARZKOPF  17000329260.0  \n",
       "783021              PRIVATE LABEL     20031077.0  "
      ]
     },
     "execution_count": 78,
     "metadata": {},
     "output_type": "execute_result"
    }
   ],
   "source": [
    "# List the duplicated barcodes order by barcode where barcode is not null\n",
    "products[products['BARCODE'].notnull() & products['BARCODE'].duplicated(keep=False)].sort_values('BARCODE').head()"
   ]
  },
  {
   "cell_type": "code",
   "execution_count": 79,
   "metadata": {},
   "outputs": [
    {
     "data": {
      "text/html": [
       "<div>\n",
       "<style scoped>\n",
       "    .dataframe tbody tr th:only-of-type {\n",
       "        vertical-align: middle;\n",
       "    }\n",
       "\n",
       "    .dataframe tbody tr th {\n",
       "        vertical-align: top;\n",
       "    }\n",
       "\n",
       "    .dataframe thead th {\n",
       "        text-align: right;\n",
       "    }\n",
       "</style>\n",
       "<table border=\"1\" class=\"dataframe\">\n",
       "  <thead>\n",
       "    <tr style=\"text-align: right;\">\n",
       "      <th></th>\n",
       "      <th>CATEGORY_1</th>\n",
       "      <th>CATEGORY_2</th>\n",
       "      <th>CATEGORY_3</th>\n",
       "      <th>CATEGORY_4</th>\n",
       "      <th>MANUFACTURER</th>\n",
       "      <th>BRAND</th>\n",
       "      <th>BARCODE</th>\n",
       "    </tr>\n",
       "  </thead>\n",
       "  <tbody>\n",
       "  </tbody>\n",
       "</table>\n",
       "</div>"
      ],
      "text/plain": [
       "Empty DataFrame\n",
       "Columns: [CATEGORY_1, CATEGORY_2, CATEGORY_3, CATEGORY_4, MANUFACTURER, BRAND, BARCODE]\n",
       "Index: []"
      ]
     },
     "execution_count": 79,
     "metadata": {},
     "output_type": "execute_result"
    }
   ],
   "source": [
    "products[products['BRAND'] == '']"
   ]
  },
  {
   "cell_type": "code",
   "execution_count": 80,
   "metadata": {},
   "outputs": [
    {
     "data": {
      "text/plain": [
       "226462"
      ]
     },
     "execution_count": 80,
     "metadata": {},
     "output_type": "execute_result"
    }
   ],
   "source": [
    "# Calculate missing brand\n",
    "products['BRAND'].isnull().sum()"
   ]
  },
  {
   "cell_type": "code",
   "execution_count": 81,
   "metadata": {},
   "outputs": [
    {
     "name": "stdout",
     "output_type": "stream",
     "text": [
      "<class 'pandas.core.frame.DataFrame'>\n",
      "Index: 845337 entries, 0 to 845551\n",
      "Data columns (total 7 columns):\n",
      " #   Column        Non-Null Count   Dtype \n",
      "---  ------        --------------   ----- \n",
      " 0   CATEGORY_1    845226 non-null  object\n",
      " 1   CATEGORY_2    843915 non-null  object\n",
      " 2   CATEGORY_3    784774 non-null  object\n",
      " 3   CATEGORY_4    67453 non-null   object\n",
      " 4   MANUFACTURER  618873 non-null  object\n",
      " 5   BRAND         618875 non-null  object\n",
      " 6   BARCODE       841369 non-null  object\n",
      "dtypes: object(7)\n",
      "memory usage: 51.6+ MB\n"
     ]
    }
   ],
   "source": [
    "# Check for missing values\n",
    "products.info()"
   ]
  },
  {
   "cell_type": "code",
   "execution_count": 82,
   "metadata": {},
   "outputs": [
    {
     "data": {
      "text/html": [
       "<div>\n",
       "<style scoped>\n",
       "    .dataframe tbody tr th:only-of-type {\n",
       "        vertical-align: middle;\n",
       "    }\n",
       "\n",
       "    .dataframe tbody tr th {\n",
       "        vertical-align: top;\n",
       "    }\n",
       "\n",
       "    .dataframe thead th {\n",
       "        text-align: right;\n",
       "    }\n",
       "</style>\n",
       "<table border=\"1\" class=\"dataframe\">\n",
       "  <thead>\n",
       "    <tr style=\"text-align: right;\">\n",
       "      <th></th>\n",
       "      <th>CATEGORY_1</th>\n",
       "      <th>CATEGORY_2</th>\n",
       "      <th>CATEGORY_3</th>\n",
       "      <th>CATEGORY_4</th>\n",
       "      <th>MANUFACTURER</th>\n",
       "      <th>BRAND</th>\n",
       "      <th>BARCODE</th>\n",
       "    </tr>\n",
       "  </thead>\n",
       "  <tbody>\n",
       "    <tr>\n",
       "      <th>0</th>\n",
       "      <td>Health &amp; Wellness</td>\n",
       "      <td>Sexual Health</td>\n",
       "      <td>Conductivity Gels &amp; Lotions</td>\n",
       "      <td>NaN</td>\n",
       "      <td>NaN</td>\n",
       "      <td>NaN</td>\n",
       "      <td>796494407820</td>\n",
       "    </tr>\n",
       "    <tr>\n",
       "      <th>1</th>\n",
       "      <td>Snacks</td>\n",
       "      <td>Puffed Snacks</td>\n",
       "      <td>Cheese Curls &amp; Puffs</td>\n",
       "      <td>NaN</td>\n",
       "      <td>NaN</td>\n",
       "      <td>NaN</td>\n",
       "      <td>23278011028</td>\n",
       "    </tr>\n",
       "    <tr>\n",
       "      <th>2</th>\n",
       "      <td>Health &amp; Wellness</td>\n",
       "      <td>Hair Care</td>\n",
       "      <td>Hair Care Accessories</td>\n",
       "      <td>NaN</td>\n",
       "      <td>PLACEHOLDER MANUFACTURER</td>\n",
       "      <td>ELECSOP</td>\n",
       "      <td>461817824225</td>\n",
       "    </tr>\n",
       "    <tr>\n",
       "      <th>3</th>\n",
       "      <td>Health &amp; Wellness</td>\n",
       "      <td>Oral Care</td>\n",
       "      <td>Toothpaste</td>\n",
       "      <td>NaN</td>\n",
       "      <td>COLGATE-PALMOLIVE</td>\n",
       "      <td>COLGATE</td>\n",
       "      <td>35000466815</td>\n",
       "    </tr>\n",
       "    <tr>\n",
       "      <th>4</th>\n",
       "      <td>Health &amp; Wellness</td>\n",
       "      <td>Medicines &amp; Treatments</td>\n",
       "      <td>Essential Oils</td>\n",
       "      <td>NaN</td>\n",
       "      <td>MAPLE HOLISTICS AND HONEYDEW PRODUCTS INTERCHA...</td>\n",
       "      <td>MAPLE HOLISTICS</td>\n",
       "      <td>806810850459</td>\n",
       "    </tr>\n",
       "  </tbody>\n",
       "</table>\n",
       "</div>"
      ],
      "text/plain": [
       "          CATEGORY_1              CATEGORY_2                   CATEGORY_3  \\\n",
       "0  Health & Wellness           Sexual Health  Conductivity Gels & Lotions   \n",
       "1             Snacks           Puffed Snacks         Cheese Curls & Puffs   \n",
       "2  Health & Wellness               Hair Care        Hair Care Accessories   \n",
       "3  Health & Wellness               Oral Care                   Toothpaste   \n",
       "4  Health & Wellness  Medicines & Treatments               Essential Oils   \n",
       "\n",
       "  CATEGORY_4                                       MANUFACTURER  \\\n",
       "0        NaN                                                NaN   \n",
       "1        NaN                                                NaN   \n",
       "2        NaN                           PLACEHOLDER MANUFACTURER   \n",
       "3        NaN                                  COLGATE-PALMOLIVE   \n",
       "4        NaN  MAPLE HOLISTICS AND HONEYDEW PRODUCTS INTERCHA...   \n",
       "\n",
       "             BRAND       BARCODE  \n",
       "0              NaN  796494407820  \n",
       "1              NaN   23278011028  \n",
       "2          ELECSOP  461817824225  \n",
       "3          COLGATE   35000466815  \n",
       "4  MAPLE HOLISTICS  806810850459  "
      ]
     },
     "execution_count": 82,
     "metadata": {},
     "output_type": "execute_result"
    }
   ],
   "source": [
    "# Remove \".0\" from end of barcode\n",
    "products['BARCODE'] = products['BARCODE'].str.replace('.0', '')\n",
    "\n",
    "# Check first 5 rows\n",
    "products.head()"
   ]
  },
  {
   "cell_type": "code",
   "execution_count": 83,
   "metadata": {},
   "outputs": [],
   "source": [
    "products = products.fillna('')"
   ]
  },
  {
   "cell_type": "code",
   "execution_count": 84,
   "metadata": {},
   "outputs": [],
   "source": [
    "# Save the products data to products_cleaned.csv\n",
    "products.to_csv('../data/processed/products_cleaned.csv', index=False, header=True)"
   ]
  },
  {
   "cell_type": "markdown",
   "metadata": {},
   "source": [
    "## Clean transactions"
   ]
  },
  {
   "cell_type": "code",
   "execution_count": 85,
   "metadata": {},
   "outputs": [
    {
     "data": {
      "text/html": [
       "<div>\n",
       "<style scoped>\n",
       "    .dataframe tbody tr th:only-of-type {\n",
       "        vertical-align: middle;\n",
       "    }\n",
       "\n",
       "    .dataframe tbody tr th {\n",
       "        vertical-align: top;\n",
       "    }\n",
       "\n",
       "    .dataframe thead th {\n",
       "        text-align: right;\n",
       "    }\n",
       "</style>\n",
       "<table border=\"1\" class=\"dataframe\">\n",
       "  <thead>\n",
       "    <tr style=\"text-align: right;\">\n",
       "      <th></th>\n",
       "      <th>RECEIPT_ID</th>\n",
       "      <th>PURCHASE_DATE</th>\n",
       "      <th>SCAN_DATE</th>\n",
       "      <th>STORE_NAME</th>\n",
       "      <th>USER_ID</th>\n",
       "      <th>BARCODE</th>\n",
       "      <th>FINAL_QUANTITY</th>\n",
       "      <th>FINAL_SALE</th>\n",
       "    </tr>\n",
       "  </thead>\n",
       "  <tbody>\n",
       "    <tr>\n",
       "      <th>0</th>\n",
       "      <td>0000d256-4041-4a3e-adc4-5623fb6e0c99</td>\n",
       "      <td>2024-08-21</td>\n",
       "      <td>2024-08-21 14:19:06.539 Z</td>\n",
       "      <td>WALMART</td>\n",
       "      <td>63b73a7f3d310dceeabd4758</td>\n",
       "      <td>1.530001e+10</td>\n",
       "      <td>1.00</td>\n",
       "      <td></td>\n",
       "    </tr>\n",
       "    <tr>\n",
       "      <th>1</th>\n",
       "      <td>0001455d-7a92-4a7b-a1d2-c747af1c8fd3</td>\n",
       "      <td>2024-07-20</td>\n",
       "      <td>2024-07-20 09:50:24.206 Z</td>\n",
       "      <td>ALDI</td>\n",
       "      <td>62c08877baa38d1a1f6c211a</td>\n",
       "      <td>NaN</td>\n",
       "      <td>zero</td>\n",
       "      <td>1.49</td>\n",
       "    </tr>\n",
       "    <tr>\n",
       "      <th>2</th>\n",
       "      <td>00017e0a-7851-42fb-bfab-0baa96e23586</td>\n",
       "      <td>2024-08-18</td>\n",
       "      <td>2024-08-19 15:38:56.813 Z</td>\n",
       "      <td>WALMART</td>\n",
       "      <td>60842f207ac8b7729e472020</td>\n",
       "      <td>7.874223e+10</td>\n",
       "      <td>1.00</td>\n",
       "      <td></td>\n",
       "    </tr>\n",
       "    <tr>\n",
       "      <th>3</th>\n",
       "      <td>000239aa-3478-453d-801e-66a82e39c8af</td>\n",
       "      <td>2024-06-18</td>\n",
       "      <td>2024-06-19 11:03:37.468 Z</td>\n",
       "      <td>FOOD LION</td>\n",
       "      <td>63fcd7cea4f8442c3386b589</td>\n",
       "      <td>7.833997e+11</td>\n",
       "      <td>zero</td>\n",
       "      <td>3.49</td>\n",
       "    </tr>\n",
       "    <tr>\n",
       "      <th>4</th>\n",
       "      <td>00026b4c-dfe8-49dd-b026-4c2f0fd5c6a1</td>\n",
       "      <td>2024-07-04</td>\n",
       "      <td>2024-07-05 15:56:43.549 Z</td>\n",
       "      <td>RANDALLS</td>\n",
       "      <td>6193231ae9b3d75037b0f928</td>\n",
       "      <td>4.790050e+10</td>\n",
       "      <td>1.00</td>\n",
       "      <td></td>\n",
       "    </tr>\n",
       "  </tbody>\n",
       "</table>\n",
       "</div>"
      ],
      "text/plain": [
       "                             RECEIPT_ID PURCHASE_DATE  \\\n",
       "0  0000d256-4041-4a3e-adc4-5623fb6e0c99    2024-08-21   \n",
       "1  0001455d-7a92-4a7b-a1d2-c747af1c8fd3    2024-07-20   \n",
       "2  00017e0a-7851-42fb-bfab-0baa96e23586    2024-08-18   \n",
       "3  000239aa-3478-453d-801e-66a82e39c8af    2024-06-18   \n",
       "4  00026b4c-dfe8-49dd-b026-4c2f0fd5c6a1    2024-07-04   \n",
       "\n",
       "                   SCAN_DATE STORE_NAME                   USER_ID  \\\n",
       "0  2024-08-21 14:19:06.539 Z    WALMART  63b73a7f3d310dceeabd4758   \n",
       "1  2024-07-20 09:50:24.206 Z       ALDI  62c08877baa38d1a1f6c211a   \n",
       "2  2024-08-19 15:38:56.813 Z    WALMART  60842f207ac8b7729e472020   \n",
       "3  2024-06-19 11:03:37.468 Z  FOOD LION  63fcd7cea4f8442c3386b589   \n",
       "4  2024-07-05 15:56:43.549 Z   RANDALLS  6193231ae9b3d75037b0f928   \n",
       "\n",
       "        BARCODE FINAL_QUANTITY FINAL_SALE  \n",
       "0  1.530001e+10           1.00             \n",
       "1           NaN           zero       1.49  \n",
       "2  7.874223e+10           1.00             \n",
       "3  7.833997e+11           zero       3.49  \n",
       "4  4.790050e+10           1.00             "
      ]
     },
     "execution_count": 85,
     "metadata": {},
     "output_type": "execute_result"
    }
   ],
   "source": [
    "transactions.head()"
   ]
  },
  {
   "cell_type": "code",
   "execution_count": 86,
   "metadata": {},
   "outputs": [
    {
     "data": {
      "text/html": [
       "<div>\n",
       "<style scoped>\n",
       "    .dataframe tbody tr th:only-of-type {\n",
       "        vertical-align: middle;\n",
       "    }\n",
       "\n",
       "    .dataframe tbody tr th {\n",
       "        vertical-align: top;\n",
       "    }\n",
       "\n",
       "    .dataframe thead th {\n",
       "        text-align: right;\n",
       "    }\n",
       "</style>\n",
       "<table border=\"1\" class=\"dataframe\">\n",
       "  <thead>\n",
       "    <tr style=\"text-align: right;\">\n",
       "      <th></th>\n",
       "      <th>RECEIPT_ID</th>\n",
       "      <th>PURCHASE_DATE</th>\n",
       "      <th>SCAN_DATE</th>\n",
       "      <th>STORE_NAME</th>\n",
       "      <th>USER_ID</th>\n",
       "      <th>BARCODE</th>\n",
       "      <th>FINAL_QUANTITY</th>\n",
       "      <th>FINAL_SALE</th>\n",
       "    </tr>\n",
       "  </thead>\n",
       "  <tbody>\n",
       "    <tr>\n",
       "      <th>0</th>\n",
       "      <td>0000d256-4041-4a3e-adc4-5623fb6e0c99</td>\n",
       "      <td>2024-08-21</td>\n",
       "      <td>2024-08-21 14:19:06.539</td>\n",
       "      <td>WALMART</td>\n",
       "      <td>63b73a7f3d310dceeabd4758</td>\n",
       "      <td>1.530001e+10</td>\n",
       "      <td>1.00</td>\n",
       "      <td></td>\n",
       "    </tr>\n",
       "    <tr>\n",
       "      <th>1</th>\n",
       "      <td>0001455d-7a92-4a7b-a1d2-c747af1c8fd3</td>\n",
       "      <td>2024-07-20</td>\n",
       "      <td>2024-07-20 09:50:24.206</td>\n",
       "      <td>ALDI</td>\n",
       "      <td>62c08877baa38d1a1f6c211a</td>\n",
       "      <td>NaN</td>\n",
       "      <td>zero</td>\n",
       "      <td>1.49</td>\n",
       "    </tr>\n",
       "    <tr>\n",
       "      <th>2</th>\n",
       "      <td>00017e0a-7851-42fb-bfab-0baa96e23586</td>\n",
       "      <td>2024-08-18</td>\n",
       "      <td>2024-08-19 15:38:56.813</td>\n",
       "      <td>WALMART</td>\n",
       "      <td>60842f207ac8b7729e472020</td>\n",
       "      <td>7.874223e+10</td>\n",
       "      <td>1.00</td>\n",
       "      <td></td>\n",
       "    </tr>\n",
       "    <tr>\n",
       "      <th>3</th>\n",
       "      <td>000239aa-3478-453d-801e-66a82e39c8af</td>\n",
       "      <td>2024-06-18</td>\n",
       "      <td>2024-06-19 11:03:37.468</td>\n",
       "      <td>FOOD LION</td>\n",
       "      <td>63fcd7cea4f8442c3386b589</td>\n",
       "      <td>7.833997e+11</td>\n",
       "      <td>zero</td>\n",
       "      <td>3.49</td>\n",
       "    </tr>\n",
       "    <tr>\n",
       "      <th>4</th>\n",
       "      <td>00026b4c-dfe8-49dd-b026-4c2f0fd5c6a1</td>\n",
       "      <td>2024-07-04</td>\n",
       "      <td>2024-07-05 15:56:43.549</td>\n",
       "      <td>RANDALLS</td>\n",
       "      <td>6193231ae9b3d75037b0f928</td>\n",
       "      <td>4.790050e+10</td>\n",
       "      <td>1.00</td>\n",
       "      <td></td>\n",
       "    </tr>\n",
       "  </tbody>\n",
       "</table>\n",
       "</div>"
      ],
      "text/plain": [
       "                             RECEIPT_ID PURCHASE_DATE               SCAN_DATE  \\\n",
       "0  0000d256-4041-4a3e-adc4-5623fb6e0c99    2024-08-21 2024-08-21 14:19:06.539   \n",
       "1  0001455d-7a92-4a7b-a1d2-c747af1c8fd3    2024-07-20 2024-07-20 09:50:24.206   \n",
       "2  00017e0a-7851-42fb-bfab-0baa96e23586    2024-08-18 2024-08-19 15:38:56.813   \n",
       "3  000239aa-3478-453d-801e-66a82e39c8af    2024-06-18 2024-06-19 11:03:37.468   \n",
       "4  00026b4c-dfe8-49dd-b026-4c2f0fd5c6a1    2024-07-04 2024-07-05 15:56:43.549   \n",
       "\n",
       "  STORE_NAME                   USER_ID       BARCODE FINAL_QUANTITY FINAL_SALE  \n",
       "0    WALMART  63b73a7f3d310dceeabd4758  1.530001e+10           1.00             \n",
       "1       ALDI  62c08877baa38d1a1f6c211a           NaN           zero       1.49  \n",
       "2    WALMART  60842f207ac8b7729e472020  7.874223e+10           1.00             \n",
       "3  FOOD LION  63fcd7cea4f8442c3386b589  7.833997e+11           zero       3.49  \n",
       "4   RANDALLS  6193231ae9b3d75037b0f928  4.790050e+10           1.00             "
      ]
     },
     "execution_count": 86,
     "metadata": {},
     "output_type": "execute_result"
    }
   ],
   "source": [
    "# Remove \" Z\" from end of date\n",
    "transactions['SCAN_DATE'] = transactions['SCAN_DATE'].str.replace(' Z', '')\n",
    "\n",
    "# Convert to datetime\n",
    "transactions['SCAN_DATE'] = pd.to_datetime(transactions['SCAN_DATE'])\n",
    "\n",
    "# Convert purchase_date to datetime\n",
    "transactions['PURCHASE_DATE'] = pd.to_datetime(transactions['PURCHASE_DATE'], format='%Y-%m-%d')\n",
    "\n",
    "# Checking the data\n",
    "transactions.head()"
   ]
  },
  {
   "cell_type": "code",
   "execution_count": 87,
   "metadata": {},
   "outputs": [
    {
     "data": {
      "text/html": [
       "<div>\n",
       "<style scoped>\n",
       "    .dataframe tbody tr th:only-of-type {\n",
       "        vertical-align: middle;\n",
       "    }\n",
       "\n",
       "    .dataframe tbody tr th {\n",
       "        vertical-align: top;\n",
       "    }\n",
       "\n",
       "    .dataframe thead th {\n",
       "        text-align: right;\n",
       "    }\n",
       "</style>\n",
       "<table border=\"1\" class=\"dataframe\">\n",
       "  <thead>\n",
       "    <tr style=\"text-align: right;\">\n",
       "      <th></th>\n",
       "      <th>RECEIPT_ID</th>\n",
       "      <th>PURCHASE_DATE</th>\n",
       "      <th>SCAN_DATE</th>\n",
       "      <th>STORE_NAME</th>\n",
       "      <th>USER_ID</th>\n",
       "      <th>BARCODE</th>\n",
       "      <th>FINAL_QUANTITY</th>\n",
       "      <th>FINAL_SALE</th>\n",
       "    </tr>\n",
       "  </thead>\n",
       "  <tbody>\n",
       "    <tr>\n",
       "      <th>0</th>\n",
       "      <td>0000d256-4041-4a3e-adc4-5623fb6e0c99</td>\n",
       "      <td>2024-08-21</td>\n",
       "      <td>2024-08-21 14:19:06.539</td>\n",
       "      <td>WALMART</td>\n",
       "      <td>63b73a7f3d310dceeabd4758</td>\n",
       "      <td>153000149780</td>\n",
       "      <td>1.00</td>\n",
       "      <td></td>\n",
       "    </tr>\n",
       "    <tr>\n",
       "      <th>1</th>\n",
       "      <td>0001455d-7a92-4a7b-a1d2-c747af1c8fd3</td>\n",
       "      <td>2024-07-20</td>\n",
       "      <td>2024-07-20 09:50:24.206</td>\n",
       "      <td>ALDI</td>\n",
       "      <td>62c08877baa38d1a1f6c211a</td>\n",
       "      <td>NaN</td>\n",
       "      <td>zero</td>\n",
       "      <td>1.49</td>\n",
       "    </tr>\n",
       "    <tr>\n",
       "      <th>2</th>\n",
       "      <td>00017e0a-7851-42fb-bfab-0baa96e23586</td>\n",
       "      <td>2024-08-18</td>\n",
       "      <td>2024-08-19 15:38:56.813</td>\n",
       "      <td>WALMART</td>\n",
       "      <td>60842f207ac8b7729e472020</td>\n",
       "      <td>787422297510</td>\n",
       "      <td>1.00</td>\n",
       "      <td></td>\n",
       "    </tr>\n",
       "    <tr>\n",
       "      <th>3</th>\n",
       "      <td>000239aa-3478-453d-801e-66a82e39c8af</td>\n",
       "      <td>2024-06-18</td>\n",
       "      <td>2024-06-19 11:03:37.468</td>\n",
       "      <td>FOOD LION</td>\n",
       "      <td>63fcd7cea4f8442c3386b589</td>\n",
       "      <td>7833997465360</td>\n",
       "      <td>zero</td>\n",
       "      <td>3.49</td>\n",
       "    </tr>\n",
       "    <tr>\n",
       "      <th>4</th>\n",
       "      <td>00026b4c-dfe8-49dd-b026-4c2f0fd5c6a1</td>\n",
       "      <td>2024-07-04</td>\n",
       "      <td>2024-07-05 15:56:43.549</td>\n",
       "      <td>RANDALLS</td>\n",
       "      <td>6193231ae9b3d75037b0f928</td>\n",
       "      <td>479005011830</td>\n",
       "      <td>1.00</td>\n",
       "      <td></td>\n",
       "    </tr>\n",
       "  </tbody>\n",
       "</table>\n",
       "</div>"
      ],
      "text/plain": [
       "                             RECEIPT_ID PURCHASE_DATE               SCAN_DATE  \\\n",
       "0  0000d256-4041-4a3e-adc4-5623fb6e0c99    2024-08-21 2024-08-21 14:19:06.539   \n",
       "1  0001455d-7a92-4a7b-a1d2-c747af1c8fd3    2024-07-20 2024-07-20 09:50:24.206   \n",
       "2  00017e0a-7851-42fb-bfab-0baa96e23586    2024-08-18 2024-08-19 15:38:56.813   \n",
       "3  000239aa-3478-453d-801e-66a82e39c8af    2024-06-18 2024-06-19 11:03:37.468   \n",
       "4  00026b4c-dfe8-49dd-b026-4c2f0fd5c6a1    2024-07-04 2024-07-05 15:56:43.549   \n",
       "\n",
       "  STORE_NAME                   USER_ID        BARCODE FINAL_QUANTITY  \\\n",
       "0    WALMART  63b73a7f3d310dceeabd4758   153000149780           1.00   \n",
       "1       ALDI  62c08877baa38d1a1f6c211a            NaN           zero   \n",
       "2    WALMART  60842f207ac8b7729e472020   787422297510           1.00   \n",
       "3  FOOD LION  63fcd7cea4f8442c3386b589  7833997465360           zero   \n",
       "4   RANDALLS  6193231ae9b3d75037b0f928   479005011830           1.00   \n",
       "\n",
       "  FINAL_SALE  \n",
       "0             \n",
       "1       1.49  \n",
       "2             \n",
       "3       3.49  \n",
       "4             "
      ]
     },
     "execution_count": 87,
     "metadata": {},
     "output_type": "execute_result"
    }
   ],
   "source": [
    "# Change data type of barcode to string\n",
    "transactions['BARCODE'] = transactions['BARCODE'].astype(str)\n",
    "\n",
    "# Strip whitespace from barcode\n",
    "transactions['BARCODE'] = transactions['BARCODE'].str.strip()\n",
    "\n",
    "# Replace \"NaN\" or \"nan\" with np.nan\n",
    "transactions = transactions.replace(['NaN', 'nan'], np.nan)\n",
    "\n",
    "# Remove \".0\" from end of barcode\n",
    "transactions['BARCODE'] = transactions['BARCODE'].str.replace('.0', '0')\n",
    "\n",
    "# Checking the data\n",
    "transactions.head()"
   ]
  },
  {
   "cell_type": "code",
   "execution_count": 88,
   "metadata": {},
   "outputs": [
    {
     "data": {
      "text/html": [
       "<div>\n",
       "<style scoped>\n",
       "    .dataframe tbody tr th:only-of-type {\n",
       "        vertical-align: middle;\n",
       "    }\n",
       "\n",
       "    .dataframe tbody tr th {\n",
       "        vertical-align: top;\n",
       "    }\n",
       "\n",
       "    .dataframe thead th {\n",
       "        text-align: right;\n",
       "    }\n",
       "</style>\n",
       "<table border=\"1\" class=\"dataframe\">\n",
       "  <thead>\n",
       "    <tr style=\"text-align: right;\">\n",
       "      <th></th>\n",
       "      <th>RECEIPT_ID</th>\n",
       "      <th>PURCHASE_DATE</th>\n",
       "      <th>SCAN_DATE</th>\n",
       "      <th>STORE_NAME</th>\n",
       "      <th>USER_ID</th>\n",
       "      <th>BARCODE</th>\n",
       "      <th>FINAL_QUANTITY</th>\n",
       "      <th>FINAL_SALE</th>\n",
       "    </tr>\n",
       "  </thead>\n",
       "  <tbody>\n",
       "    <tr>\n",
       "      <th>1</th>\n",
       "      <td>0001455d-7a92-4a7b-a1d2-c747af1c8fd3</td>\n",
       "      <td>2024-07-20</td>\n",
       "      <td>2024-07-20 09:50:24.206</td>\n",
       "      <td>ALDI</td>\n",
       "      <td>62c08877baa38d1a1f6c211a</td>\n",
       "      <td>NaN</td>\n",
       "      <td>zero</td>\n",
       "      <td>1.49</td>\n",
       "    </tr>\n",
       "    <tr>\n",
       "      <th>9</th>\n",
       "      <td>0010d87d-1ad2-4e5e-9a25-cec736919d15</td>\n",
       "      <td>2024-08-04</td>\n",
       "      <td>2024-08-04 18:01:47.787</td>\n",
       "      <td>ALDI</td>\n",
       "      <td>66686fc2e04f743a096ea808</td>\n",
       "      <td>NaN</td>\n",
       "      <td>zero</td>\n",
       "      <td>2.29</td>\n",
       "    </tr>\n",
       "    <tr>\n",
       "      <th>17</th>\n",
       "      <td>002ee298-d907-40ca-921a-556468571f76</td>\n",
       "      <td>2024-07-15</td>\n",
       "      <td>2024-07-16 16:42:19.211</td>\n",
       "      <td>ALDI</td>\n",
       "      <td>63de64b1dcb50fbd3084f142</td>\n",
       "      <td>NaN</td>\n",
       "      <td>zero</td>\n",
       "      <td>2.49</td>\n",
       "    </tr>\n",
       "    <tr>\n",
       "      <th>18</th>\n",
       "      <td>00326689-e763-4b27-9ad5-202fc93609e2</td>\n",
       "      <td>2024-06-19</td>\n",
       "      <td>2024-06-20 08:59:38.397</td>\n",
       "      <td>ALDI</td>\n",
       "      <td>6158642597d737581b5d30ee</td>\n",
       "      <td>NaN</td>\n",
       "      <td>1.00</td>\n",
       "      <td></td>\n",
       "    </tr>\n",
       "    <tr>\n",
       "      <th>60</th>\n",
       "      <td>00a9e033-e49d-45d6-990e-90631f82775e</td>\n",
       "      <td>2024-09-05</td>\n",
       "      <td>2024-09-05 11:10:54.831</td>\n",
       "      <td>ALDI</td>\n",
       "      <td>5d4f08e962fb4a4a58574e7f</td>\n",
       "      <td>NaN</td>\n",
       "      <td>1.00</td>\n",
       "      <td></td>\n",
       "    </tr>\n",
       "    <tr>\n",
       "      <th>...</th>\n",
       "      <td>...</td>\n",
       "      <td>...</td>\n",
       "      <td>...</td>\n",
       "      <td>...</td>\n",
       "      <td>...</td>\n",
       "      <td>...</td>\n",
       "      <td>...</td>\n",
       "      <td>...</td>\n",
       "    </tr>\n",
       "    <tr>\n",
       "      <th>49959</th>\n",
       "      <td>45575fc2-6ba3-4913-bdf2-05814e4309e0</td>\n",
       "      <td>2024-06-20</td>\n",
       "      <td>2024-06-20 11:56:29.486</td>\n",
       "      <td>SUPERMERCADOS ECONO</td>\n",
       "      <td>618c25125e388d4f513334b9</td>\n",
       "      <td>NaN</td>\n",
       "      <td>1.00</td>\n",
       "      <td>1.67</td>\n",
       "    </tr>\n",
       "    <tr>\n",
       "      <th>49960</th>\n",
       "      <td>7a36db68-c8a7-4b29-b1c2-4cb51ad9f42a</td>\n",
       "      <td>2024-08-29</td>\n",
       "      <td>2024-08-29 14:39:07.868</td>\n",
       "      <td>DOLLAR TREE STORES INC</td>\n",
       "      <td>665e2f887c0469953bfbdb5b</td>\n",
       "      <td>NaN</td>\n",
       "      <td>1.00</td>\n",
       "      <td>1.25</td>\n",
       "    </tr>\n",
       "    <tr>\n",
       "      <th>49962</th>\n",
       "      <td>d7cf611f-f07d-4e3d-9a5d-aacc0d56a4a7</td>\n",
       "      <td>2024-07-21</td>\n",
       "      <td>2024-07-21 10:31:52.403</td>\n",
       "      <td>ALDI</td>\n",
       "      <td>61a8f120f6305b3dade12c15</td>\n",
       "      <td>NaN</td>\n",
       "      <td>1.00</td>\n",
       "      <td>1.29</td>\n",
       "    </tr>\n",
       "    <tr>\n",
       "      <th>49963</th>\n",
       "      <td>e79c254d-1bf0-4471-8e79-4f52c6b81481</td>\n",
       "      <td>2024-08-24</td>\n",
       "      <td>2024-08-26 15:21:15.492</td>\n",
       "      <td>DOLLAR TREE STORES INC</td>\n",
       "      <td>62f6799b30b23c82198fa01c</td>\n",
       "      <td>NaN</td>\n",
       "      <td>1.00</td>\n",
       "      <td>1.25</td>\n",
       "    </tr>\n",
       "    <tr>\n",
       "      <th>49994</th>\n",
       "      <td>6cdf3c1a-78b3-4fb0-85fd-52e2f5b4731c</td>\n",
       "      <td>2024-06-26</td>\n",
       "      <td>2024-07-01 11:00:39.769</td>\n",
       "      <td>HARRIS TEETER</td>\n",
       "      <td>5de7ec93ca63cc17893cdd14</td>\n",
       "      <td>NaN</td>\n",
       "      <td>1.00</td>\n",
       "      <td>3.00</td>\n",
       "    </tr>\n",
       "  </tbody>\n",
       "</table>\n",
       "<p>5762 rows × 8 columns</p>\n",
       "</div>"
      ],
      "text/plain": [
       "                                 RECEIPT_ID PURCHASE_DATE  \\\n",
       "1      0001455d-7a92-4a7b-a1d2-c747af1c8fd3    2024-07-20   \n",
       "9      0010d87d-1ad2-4e5e-9a25-cec736919d15    2024-08-04   \n",
       "17     002ee298-d907-40ca-921a-556468571f76    2024-07-15   \n",
       "18     00326689-e763-4b27-9ad5-202fc93609e2    2024-06-19   \n",
       "60     00a9e033-e49d-45d6-990e-90631f82775e    2024-09-05   \n",
       "...                                     ...           ...   \n",
       "49959  45575fc2-6ba3-4913-bdf2-05814e4309e0    2024-06-20   \n",
       "49960  7a36db68-c8a7-4b29-b1c2-4cb51ad9f42a    2024-08-29   \n",
       "49962  d7cf611f-f07d-4e3d-9a5d-aacc0d56a4a7    2024-07-21   \n",
       "49963  e79c254d-1bf0-4471-8e79-4f52c6b81481    2024-08-24   \n",
       "49994  6cdf3c1a-78b3-4fb0-85fd-52e2f5b4731c    2024-06-26   \n",
       "\n",
       "                    SCAN_DATE              STORE_NAME  \\\n",
       "1     2024-07-20 09:50:24.206                    ALDI   \n",
       "9     2024-08-04 18:01:47.787                    ALDI   \n",
       "17    2024-07-16 16:42:19.211                    ALDI   \n",
       "18    2024-06-20 08:59:38.397                    ALDI   \n",
       "60    2024-09-05 11:10:54.831                    ALDI   \n",
       "...                       ...                     ...   \n",
       "49959 2024-06-20 11:56:29.486     SUPERMERCADOS ECONO   \n",
       "49960 2024-08-29 14:39:07.868  DOLLAR TREE STORES INC   \n",
       "49962 2024-07-21 10:31:52.403                    ALDI   \n",
       "49963 2024-08-26 15:21:15.492  DOLLAR TREE STORES INC   \n",
       "49994 2024-07-01 11:00:39.769           HARRIS TEETER   \n",
       "\n",
       "                        USER_ID BARCODE FINAL_QUANTITY FINAL_SALE  \n",
       "1      62c08877baa38d1a1f6c211a     NaN           zero       1.49  \n",
       "9      66686fc2e04f743a096ea808     NaN           zero       2.29  \n",
       "17     63de64b1dcb50fbd3084f142     NaN           zero       2.49  \n",
       "18     6158642597d737581b5d30ee     NaN           1.00             \n",
       "60     5d4f08e962fb4a4a58574e7f     NaN           1.00             \n",
       "...                         ...     ...            ...        ...  \n",
       "49959  618c25125e388d4f513334b9     NaN           1.00       1.67  \n",
       "49960  665e2f887c0469953bfbdb5b     NaN           1.00       1.25  \n",
       "49962  61a8f120f6305b3dade12c15     NaN           1.00       1.29  \n",
       "49963  62f6799b30b23c82198fa01c     NaN           1.00       1.25  \n",
       "49994  5de7ec93ca63cc17893cdd14     NaN           1.00       3.00  \n",
       "\n",
       "[5762 rows x 8 columns]"
      ]
     },
     "execution_count": 88,
     "metadata": {},
     "output_type": "execute_result"
    }
   ],
   "source": [
    "# Checking the data with barcode is null\n",
    "transactions[transactions['BARCODE'].isnull()]"
   ]
  },
  {
   "cell_type": "code",
   "execution_count": 89,
   "metadata": {},
   "outputs": [
    {
     "data": {
      "text/html": [
       "<div>\n",
       "<style scoped>\n",
       "    .dataframe tbody tr th:only-of-type {\n",
       "        vertical-align: middle;\n",
       "    }\n",
       "\n",
       "    .dataframe tbody tr th {\n",
       "        vertical-align: top;\n",
       "    }\n",
       "\n",
       "    .dataframe thead th {\n",
       "        text-align: right;\n",
       "    }\n",
       "</style>\n",
       "<table border=\"1\" class=\"dataframe\">\n",
       "  <thead>\n",
       "    <tr style=\"text-align: right;\">\n",
       "      <th></th>\n",
       "      <th>RECEIPT_ID</th>\n",
       "      <th>PURCHASE_DATE</th>\n",
       "      <th>SCAN_DATE</th>\n",
       "      <th>STORE_NAME</th>\n",
       "      <th>USER_ID</th>\n",
       "      <th>BARCODE</th>\n",
       "      <th>FINAL_QUANTITY</th>\n",
       "      <th>FINAL_SALE</th>\n",
       "    </tr>\n",
       "  </thead>\n",
       "  <tbody>\n",
       "    <tr>\n",
       "      <th>0</th>\n",
       "      <td>0000d256-4041-4a3e-adc4-5623fb6e0c99</td>\n",
       "      <td>2024-08-21</td>\n",
       "      <td>2024-08-21 14:19:06.539</td>\n",
       "      <td>WALMART</td>\n",
       "      <td>63b73a7f3d310dceeabd4758</td>\n",
       "      <td>153000149780</td>\n",
       "      <td>1.0</td>\n",
       "      <td></td>\n",
       "    </tr>\n",
       "    <tr>\n",
       "      <th>1</th>\n",
       "      <td>0001455d-7a92-4a7b-a1d2-c747af1c8fd3</td>\n",
       "      <td>2024-07-20</td>\n",
       "      <td>2024-07-20 09:50:24.206</td>\n",
       "      <td>ALDI</td>\n",
       "      <td>62c08877baa38d1a1f6c211a</td>\n",
       "      <td>NaN</td>\n",
       "      <td>0.0</td>\n",
       "      <td>1.49</td>\n",
       "    </tr>\n",
       "    <tr>\n",
       "      <th>2</th>\n",
       "      <td>00017e0a-7851-42fb-bfab-0baa96e23586</td>\n",
       "      <td>2024-08-18</td>\n",
       "      <td>2024-08-19 15:38:56.813</td>\n",
       "      <td>WALMART</td>\n",
       "      <td>60842f207ac8b7729e472020</td>\n",
       "      <td>787422297510</td>\n",
       "      <td>1.0</td>\n",
       "      <td></td>\n",
       "    </tr>\n",
       "    <tr>\n",
       "      <th>3</th>\n",
       "      <td>000239aa-3478-453d-801e-66a82e39c8af</td>\n",
       "      <td>2024-06-18</td>\n",
       "      <td>2024-06-19 11:03:37.468</td>\n",
       "      <td>FOOD LION</td>\n",
       "      <td>63fcd7cea4f8442c3386b589</td>\n",
       "      <td>7833997465360</td>\n",
       "      <td>0.0</td>\n",
       "      <td>3.49</td>\n",
       "    </tr>\n",
       "    <tr>\n",
       "      <th>4</th>\n",
       "      <td>00026b4c-dfe8-49dd-b026-4c2f0fd5c6a1</td>\n",
       "      <td>2024-07-04</td>\n",
       "      <td>2024-07-05 15:56:43.549</td>\n",
       "      <td>RANDALLS</td>\n",
       "      <td>6193231ae9b3d75037b0f928</td>\n",
       "      <td>479005011830</td>\n",
       "      <td>1.0</td>\n",
       "      <td></td>\n",
       "    </tr>\n",
       "  </tbody>\n",
       "</table>\n",
       "</div>"
      ],
      "text/plain": [
       "                             RECEIPT_ID PURCHASE_DATE               SCAN_DATE  \\\n",
       "0  0000d256-4041-4a3e-adc4-5623fb6e0c99    2024-08-21 2024-08-21 14:19:06.539   \n",
       "1  0001455d-7a92-4a7b-a1d2-c747af1c8fd3    2024-07-20 2024-07-20 09:50:24.206   \n",
       "2  00017e0a-7851-42fb-bfab-0baa96e23586    2024-08-18 2024-08-19 15:38:56.813   \n",
       "3  000239aa-3478-453d-801e-66a82e39c8af    2024-06-18 2024-06-19 11:03:37.468   \n",
       "4  00026b4c-dfe8-49dd-b026-4c2f0fd5c6a1    2024-07-04 2024-07-05 15:56:43.549   \n",
       "\n",
       "  STORE_NAME                   USER_ID        BARCODE  FINAL_QUANTITY  \\\n",
       "0    WALMART  63b73a7f3d310dceeabd4758   153000149780             1.0   \n",
       "1       ALDI  62c08877baa38d1a1f6c211a            NaN             0.0   \n",
       "2    WALMART  60842f207ac8b7729e472020   787422297510             1.0   \n",
       "3  FOOD LION  63fcd7cea4f8442c3386b589  7833997465360             0.0   \n",
       "4   RANDALLS  6193231ae9b3d75037b0f928   479005011830             1.0   \n",
       "\n",
       "  FINAL_SALE  \n",
       "0             \n",
       "1       1.49  \n",
       "2             \n",
       "3       3.49  \n",
       "4             "
      ]
     },
     "execution_count": 89,
     "metadata": {},
     "output_type": "execute_result"
    }
   ],
   "source": [
    "# Change \"zero\" in final_quantity to 0\n",
    "transactions['FINAL_QUANTITY'] = transactions['FINAL_QUANTITY'].replace('zero', 0)\n",
    "\n",
    "# Change data type of final_quantity to float\n",
    "transactions['FINAL_QUANTITY'] = transactions['FINAL_QUANTITY'].astype(float)\n",
    "\n",
    "# Checking the data\n",
    "transactions.head()"
   ]
  },
  {
   "cell_type": "code",
   "execution_count": 90,
   "metadata": {},
   "outputs": [
    {
     "data": {
      "text/html": [
       "<div>\n",
       "<style scoped>\n",
       "    .dataframe tbody tr th:only-of-type {\n",
       "        vertical-align: middle;\n",
       "    }\n",
       "\n",
       "    .dataframe tbody tr th {\n",
       "        vertical-align: top;\n",
       "    }\n",
       "\n",
       "    .dataframe thead th {\n",
       "        text-align: right;\n",
       "    }\n",
       "</style>\n",
       "<table border=\"1\" class=\"dataframe\">\n",
       "  <thead>\n",
       "    <tr style=\"text-align: right;\">\n",
       "      <th></th>\n",
       "      <th>RECEIPT_ID</th>\n",
       "      <th>PURCHASE_DATE</th>\n",
       "      <th>SCAN_DATE</th>\n",
       "      <th>STORE_NAME</th>\n",
       "      <th>USER_ID</th>\n",
       "      <th>BARCODE</th>\n",
       "      <th>FINAL_QUANTITY</th>\n",
       "      <th>FINAL_SALE</th>\n",
       "    </tr>\n",
       "  </thead>\n",
       "  <tbody>\n",
       "    <tr>\n",
       "      <th>1</th>\n",
       "      <td>0001455d-7a92-4a7b-a1d2-c747af1c8fd3</td>\n",
       "      <td>2024-07-20</td>\n",
       "      <td>2024-07-20 09:50:24.206</td>\n",
       "      <td>ALDI</td>\n",
       "      <td>62c08877baa38d1a1f6c211a</td>\n",
       "      <td>NaN</td>\n",
       "      <td>0.0</td>\n",
       "      <td>1.49</td>\n",
       "    </tr>\n",
       "    <tr>\n",
       "      <th>3</th>\n",
       "      <td>000239aa-3478-453d-801e-66a82e39c8af</td>\n",
       "      <td>2024-06-18</td>\n",
       "      <td>2024-06-19 11:03:37.468</td>\n",
       "      <td>FOOD LION</td>\n",
       "      <td>63fcd7cea4f8442c3386b589</td>\n",
       "      <td>7833997465360</td>\n",
       "      <td>0.0</td>\n",
       "      <td>3.49</td>\n",
       "    </tr>\n",
       "    <tr>\n",
       "      <th>5</th>\n",
       "      <td>0002d8cd-1701-4cdd-a524-b70402e2dbc0</td>\n",
       "      <td>2024-06-24</td>\n",
       "      <td>2024-06-24 19:44:54.247</td>\n",
       "      <td>WALMART</td>\n",
       "      <td>5dcc6c510040a012b8e76924</td>\n",
       "      <td>6811314112950</td>\n",
       "      <td>0.0</td>\n",
       "      <td>1.46</td>\n",
       "    </tr>\n",
       "    <tr>\n",
       "      <th>7</th>\n",
       "      <td>00096c49-8b04-42f9-88ce-941c5e06c4a7</td>\n",
       "      <td>2024-08-19</td>\n",
       "      <td>2024-08-21 17:35:21.902</td>\n",
       "      <td>TARGET</td>\n",
       "      <td>6144f4f1f3ef696919f54b5c</td>\n",
       "      <td>783000699420</td>\n",
       "      <td>0.0</td>\n",
       "      <td>3.59</td>\n",
       "    </tr>\n",
       "    <tr>\n",
       "      <th>9</th>\n",
       "      <td>0010d87d-1ad2-4e5e-9a25-cec736919d15</td>\n",
       "      <td>2024-08-04</td>\n",
       "      <td>2024-08-04 18:01:47.787</td>\n",
       "      <td>ALDI</td>\n",
       "      <td>66686fc2e04f743a096ea808</td>\n",
       "      <td>NaN</td>\n",
       "      <td>0.0</td>\n",
       "      <td>2.29</td>\n",
       "    </tr>\n",
       "  </tbody>\n",
       "</table>\n",
       "</div>"
      ],
      "text/plain": [
       "                             RECEIPT_ID PURCHASE_DATE               SCAN_DATE  \\\n",
       "1  0001455d-7a92-4a7b-a1d2-c747af1c8fd3    2024-07-20 2024-07-20 09:50:24.206   \n",
       "3  000239aa-3478-453d-801e-66a82e39c8af    2024-06-18 2024-06-19 11:03:37.468   \n",
       "5  0002d8cd-1701-4cdd-a524-b70402e2dbc0    2024-06-24 2024-06-24 19:44:54.247   \n",
       "7  00096c49-8b04-42f9-88ce-941c5e06c4a7    2024-08-19 2024-08-21 17:35:21.902   \n",
       "9  0010d87d-1ad2-4e5e-9a25-cec736919d15    2024-08-04 2024-08-04 18:01:47.787   \n",
       "\n",
       "  STORE_NAME                   USER_ID        BARCODE  FINAL_QUANTITY  \\\n",
       "1       ALDI  62c08877baa38d1a1f6c211a            NaN             0.0   \n",
       "3  FOOD LION  63fcd7cea4f8442c3386b589  7833997465360             0.0   \n",
       "5    WALMART  5dcc6c510040a012b8e76924  6811314112950             0.0   \n",
       "7     TARGET  6144f4f1f3ef696919f54b5c   783000699420             0.0   \n",
       "9       ALDI  66686fc2e04f743a096ea808            NaN             0.0   \n",
       "\n",
       "  FINAL_SALE  \n",
       "1       1.49  \n",
       "3       3.49  \n",
       "5       1.46  \n",
       "7       3.59  \n",
       "9       2.29  "
      ]
     },
     "execution_count": 90,
     "metadata": {},
     "output_type": "execute_result"
    }
   ],
   "source": [
    "# Checking the data with final_quantity is 0\n",
    "transactions[transactions['FINAL_QUANTITY'] == 0.0].head()"
   ]
  },
  {
   "cell_type": "code",
   "execution_count": 91,
   "metadata": {},
   "outputs": [
    {
     "name": "stdout",
     "output_type": "stream",
     "text": [
      "<class 'pandas.core.frame.DataFrame'>\n",
      "RangeIndex: 50000 entries, 0 to 49999\n",
      "Data columns (total 8 columns):\n",
      " #   Column          Non-Null Count  Dtype         \n",
      "---  ------          --------------  -----         \n",
      " 0   RECEIPT_ID      50000 non-null  object        \n",
      " 1   PURCHASE_DATE   50000 non-null  datetime64[ns]\n",
      " 2   SCAN_DATE       50000 non-null  datetime64[ns]\n",
      " 3   STORE_NAME      50000 non-null  object        \n",
      " 4   USER_ID         50000 non-null  object        \n",
      " 5   BARCODE         44238 non-null  object        \n",
      " 6   FINAL_QUANTITY  50000 non-null  float64       \n",
      " 7   FINAL_SALE      50000 non-null  float64       \n",
      "dtypes: datetime64[ns](2), float64(2), object(4)\n",
      "memory usage: 3.1+ MB\n"
     ]
    }
   ],
   "source": [
    "# Strip whitespace from final_sale\n",
    "transactions['FINAL_SALE'] = transactions['FINAL_SALE'].str.strip()\n",
    "\n",
    "# Replace \"\" with np.nan\n",
    "transactions['FINAL_SALE'] = transactions['FINAL_SALE'].replace('', np.nan)\n",
    "\n",
    "# Fill missing values in final_sale with 0\n",
    "transactions['FINAL_SALE'] = transactions['FINAL_SALE'].fillna(0)\n",
    "\n",
    "# Change the data type of final_sale to float\n",
    "transactions['FINAL_SALE'] = transactions['FINAL_SALE'].astype(float)\n",
    "\n",
    "# Checking the data types\n",
    "transactions.info()"
   ]
  },
  {
   "cell_type": "code",
   "execution_count": 92,
   "metadata": {},
   "outputs": [
    {
     "data": {
      "text/html": [
       "<div>\n",
       "<style scoped>\n",
       "    .dataframe tbody tr th:only-of-type {\n",
       "        vertical-align: middle;\n",
       "    }\n",
       "\n",
       "    .dataframe tbody tr th {\n",
       "        vertical-align: top;\n",
       "    }\n",
       "\n",
       "    .dataframe thead th {\n",
       "        text-align: right;\n",
       "    }\n",
       "</style>\n",
       "<table border=\"1\" class=\"dataframe\">\n",
       "  <thead>\n",
       "    <tr style=\"text-align: right;\">\n",
       "      <th></th>\n",
       "      <th>RECEIPT_ID</th>\n",
       "      <th>PURCHASE_DATE</th>\n",
       "      <th>SCAN_DATE</th>\n",
       "      <th>STORE_NAME</th>\n",
       "      <th>USER_ID</th>\n",
       "      <th>BARCODE</th>\n",
       "      <th>FINAL_QUANTITY</th>\n",
       "      <th>FINAL_SALE</th>\n",
       "    </tr>\n",
       "  </thead>\n",
       "  <tbody>\n",
       "    <tr>\n",
       "      <th>0</th>\n",
       "      <td>0000d256-4041-4a3e-adc4-5623fb6e0c99</td>\n",
       "      <td>2024-08-21</td>\n",
       "      <td>2024-08-21 14:19:06.539</td>\n",
       "      <td>WALMART</td>\n",
       "      <td>63b73a7f3d310dceeabd4758</td>\n",
       "      <td>153000149780</td>\n",
       "      <td>1.0</td>\n",
       "      <td>0.00</td>\n",
       "    </tr>\n",
       "    <tr>\n",
       "      <th>1</th>\n",
       "      <td>0001455d-7a92-4a7b-a1d2-c747af1c8fd3</td>\n",
       "      <td>2024-07-20</td>\n",
       "      <td>2024-07-20 09:50:24.206</td>\n",
       "      <td>ALDI</td>\n",
       "      <td>62c08877baa38d1a1f6c211a</td>\n",
       "      <td>NaN</td>\n",
       "      <td>0.0</td>\n",
       "      <td>1.49</td>\n",
       "    </tr>\n",
       "    <tr>\n",
       "      <th>2</th>\n",
       "      <td>00017e0a-7851-42fb-bfab-0baa96e23586</td>\n",
       "      <td>2024-08-18</td>\n",
       "      <td>2024-08-19 15:38:56.813</td>\n",
       "      <td>WALMART</td>\n",
       "      <td>60842f207ac8b7729e472020</td>\n",
       "      <td>787422297510</td>\n",
       "      <td>1.0</td>\n",
       "      <td>0.00</td>\n",
       "    </tr>\n",
       "    <tr>\n",
       "      <th>3</th>\n",
       "      <td>000239aa-3478-453d-801e-66a82e39c8af</td>\n",
       "      <td>2024-06-18</td>\n",
       "      <td>2024-06-19 11:03:37.468</td>\n",
       "      <td>FOOD LION</td>\n",
       "      <td>63fcd7cea4f8442c3386b589</td>\n",
       "      <td>7833997465360</td>\n",
       "      <td>0.0</td>\n",
       "      <td>3.49</td>\n",
       "    </tr>\n",
       "    <tr>\n",
       "      <th>4</th>\n",
       "      <td>00026b4c-dfe8-49dd-b026-4c2f0fd5c6a1</td>\n",
       "      <td>2024-07-04</td>\n",
       "      <td>2024-07-05 15:56:43.549</td>\n",
       "      <td>RANDALLS</td>\n",
       "      <td>6193231ae9b3d75037b0f928</td>\n",
       "      <td>479005011830</td>\n",
       "      <td>1.0</td>\n",
       "      <td>0.00</td>\n",
       "    </tr>\n",
       "  </tbody>\n",
       "</table>\n",
       "</div>"
      ],
      "text/plain": [
       "                             RECEIPT_ID PURCHASE_DATE               SCAN_DATE  \\\n",
       "0  0000d256-4041-4a3e-adc4-5623fb6e0c99    2024-08-21 2024-08-21 14:19:06.539   \n",
       "1  0001455d-7a92-4a7b-a1d2-c747af1c8fd3    2024-07-20 2024-07-20 09:50:24.206   \n",
       "2  00017e0a-7851-42fb-bfab-0baa96e23586    2024-08-18 2024-08-19 15:38:56.813   \n",
       "3  000239aa-3478-453d-801e-66a82e39c8af    2024-06-18 2024-06-19 11:03:37.468   \n",
       "4  00026b4c-dfe8-49dd-b026-4c2f0fd5c6a1    2024-07-04 2024-07-05 15:56:43.549   \n",
       "\n",
       "  STORE_NAME                   USER_ID        BARCODE  FINAL_QUANTITY  \\\n",
       "0    WALMART  63b73a7f3d310dceeabd4758   153000149780             1.0   \n",
       "1       ALDI  62c08877baa38d1a1f6c211a            NaN             0.0   \n",
       "2    WALMART  60842f207ac8b7729e472020   787422297510             1.0   \n",
       "3  FOOD LION  63fcd7cea4f8442c3386b589  7833997465360             0.0   \n",
       "4   RANDALLS  6193231ae9b3d75037b0f928   479005011830             1.0   \n",
       "\n",
       "   FINAL_SALE  \n",
       "0        0.00  \n",
       "1        1.49  \n",
       "2        0.00  \n",
       "3        3.49  \n",
       "4        0.00  "
      ]
     },
     "execution_count": 92,
     "metadata": {},
     "output_type": "execute_result"
    }
   ],
   "source": [
    "transactions.head()"
   ]
  },
  {
   "cell_type": "code",
   "execution_count": 93,
   "metadata": {},
   "outputs": [
    {
     "data": {
      "text/html": [
       "<div>\n",
       "<style scoped>\n",
       "    .dataframe tbody tr th:only-of-type {\n",
       "        vertical-align: middle;\n",
       "    }\n",
       "\n",
       "    .dataframe tbody tr th {\n",
       "        vertical-align: top;\n",
       "    }\n",
       "\n",
       "    .dataframe thead th {\n",
       "        text-align: right;\n",
       "    }\n",
       "</style>\n",
       "<table border=\"1\" class=\"dataframe\">\n",
       "  <thead>\n",
       "    <tr style=\"text-align: right;\">\n",
       "      <th></th>\n",
       "      <th>RECEIPT_ID</th>\n",
       "      <th>PURCHASE_DATE</th>\n",
       "      <th>SCAN_DATE</th>\n",
       "      <th>STORE_NAME</th>\n",
       "      <th>USER_ID</th>\n",
       "      <th>BARCODE</th>\n",
       "      <th>FINAL_QUANTITY</th>\n",
       "      <th>FINAL_SALE</th>\n",
       "    </tr>\n",
       "  </thead>\n",
       "  <tbody>\n",
       "    <tr>\n",
       "      <th>301</th>\n",
       "      <td>0326a774-0077-4378-8828-a780057f21f9</td>\n",
       "      <td>2024-06-27</td>\n",
       "      <td>2024-06-28 01:22:17.313</td>\n",
       "      <td>KROGER</td>\n",
       "      <td>632940cbca87b39d76e1e3df</td>\n",
       "      <td>3111118853330</td>\n",
       "      <td>0.0</td>\n",
       "      <td>0.0</td>\n",
       "    </tr>\n",
       "    <tr>\n",
       "      <th>377</th>\n",
       "      <td>03f8cad3-bb8b-46e9-9cd1-854c29aa2221</td>\n",
       "      <td>2024-07-05</td>\n",
       "      <td>2024-07-07 00:28:26.074</td>\n",
       "      <td>WALGREENS</td>\n",
       "      <td>634104581aaccf0b2168d91e</td>\n",
       "      <td>NaN</td>\n",
       "      <td>0.0</td>\n",
       "      <td>0.0</td>\n",
       "    </tr>\n",
       "    <tr>\n",
       "      <th>673</th>\n",
       "      <td>06c39966-17c6-4e9f-bebe-d6da851f8f6a</td>\n",
       "      <td>2024-08-04</td>\n",
       "      <td>2024-08-09 09:58:37.189</td>\n",
       "      <td>KROGER</td>\n",
       "      <td>643439bf838dd2651fb34e16</td>\n",
       "      <td>5111110017680</td>\n",
       "      <td>0.0</td>\n",
       "      <td>0.0</td>\n",
       "    </tr>\n",
       "    <tr>\n",
       "      <th>899</th>\n",
       "      <td>091a401e-767c-4038-b26b-fedac0ebb7dd</td>\n",
       "      <td>2024-08-21</td>\n",
       "      <td>2024-08-28 19:06:34.410</td>\n",
       "      <td>WALMART</td>\n",
       "      <td>5ea3475c2244e612db5c63e6</td>\n",
       "      <td>508443750240</td>\n",
       "      <td>0.0</td>\n",
       "      <td>0.0</td>\n",
       "    </tr>\n",
       "    <tr>\n",
       "      <th>1421</th>\n",
       "      <td>0e90d4f9-0ca9-4ab3-bd77-edc7d8d4be41</td>\n",
       "      <td>2024-07-11</td>\n",
       "      <td>2024-07-11 13:20:53.885</td>\n",
       "      <td>CVS</td>\n",
       "      <td>617ddad13b673b609e5f327b</td>\n",
       "      <td>NaN</td>\n",
       "      <td>0.0</td>\n",
       "      <td>0.0</td>\n",
       "    </tr>\n",
       "  </tbody>\n",
       "</table>\n",
       "</div>"
      ],
      "text/plain": [
       "                                RECEIPT_ID PURCHASE_DATE  \\\n",
       "301   0326a774-0077-4378-8828-a780057f21f9    2024-06-27   \n",
       "377   03f8cad3-bb8b-46e9-9cd1-854c29aa2221    2024-07-05   \n",
       "673   06c39966-17c6-4e9f-bebe-d6da851f8f6a    2024-08-04   \n",
       "899   091a401e-767c-4038-b26b-fedac0ebb7dd    2024-08-21   \n",
       "1421  0e90d4f9-0ca9-4ab3-bd77-edc7d8d4be41    2024-07-11   \n",
       "\n",
       "                   SCAN_DATE STORE_NAME                   USER_ID  \\\n",
       "301  2024-06-28 01:22:17.313     KROGER  632940cbca87b39d76e1e3df   \n",
       "377  2024-07-07 00:28:26.074  WALGREENS  634104581aaccf0b2168d91e   \n",
       "673  2024-08-09 09:58:37.189     KROGER  643439bf838dd2651fb34e16   \n",
       "899  2024-08-28 19:06:34.410    WALMART  5ea3475c2244e612db5c63e6   \n",
       "1421 2024-07-11 13:20:53.885        CVS  617ddad13b673b609e5f327b   \n",
       "\n",
       "            BARCODE  FINAL_QUANTITY  FINAL_SALE  \n",
       "301   3111118853330             0.0         0.0  \n",
       "377             NaN             0.0         0.0  \n",
       "673   5111110017680             0.0         0.0  \n",
       "899    508443750240             0.0         0.0  \n",
       "1421            NaN             0.0         0.0  "
      ]
     },
     "execution_count": 93,
     "metadata": {},
     "output_type": "execute_result"
    }
   ],
   "source": [
    "# Check if there are any rows with final_quantity is 0 and final_sale is also 0\n",
    "transactions[(transactions['FINAL_QUANTITY'] == 0) & (transactions['FINAL_SALE'] == 0)].head()"
   ]
  },
  {
   "cell_type": "code",
   "execution_count": 94,
   "metadata": {},
   "outputs": [
    {
     "data": {
      "text/html": [
       "<div>\n",
       "<style scoped>\n",
       "    .dataframe tbody tr th:only-of-type {\n",
       "        vertical-align: middle;\n",
       "    }\n",
       "\n",
       "    .dataframe tbody tr th {\n",
       "        vertical-align: top;\n",
       "    }\n",
       "\n",
       "    .dataframe thead th {\n",
       "        text-align: right;\n",
       "    }\n",
       "</style>\n",
       "<table border=\"1\" class=\"dataframe\">\n",
       "  <thead>\n",
       "    <tr style=\"text-align: right;\">\n",
       "      <th></th>\n",
       "      <th>RECEIPT_ID</th>\n",
       "      <th>PURCHASE_DATE</th>\n",
       "      <th>SCAN_DATE</th>\n",
       "      <th>STORE_NAME</th>\n",
       "      <th>USER_ID</th>\n",
       "      <th>BARCODE</th>\n",
       "      <th>FINAL_QUANTITY</th>\n",
       "      <th>FINAL_SALE</th>\n",
       "    </tr>\n",
       "  </thead>\n",
       "  <tbody>\n",
       "    <tr>\n",
       "      <th>25000</th>\n",
       "      <td>7b3ec72d-9d30-40b8-b185-0bfb638942a9</td>\n",
       "      <td>2024-08-20</td>\n",
       "      <td>2024-08-20 11:17:29.633</td>\n",
       "      <td>DOLLAR GENERAL STORE</td>\n",
       "      <td>60fc1e6deb7585430ff52ee7</td>\n",
       "      <td>7455271148840</td>\n",
       "      <td>1.0</td>\n",
       "      <td>1.65</td>\n",
       "    </tr>\n",
       "    <tr>\n",
       "      <th>25001</th>\n",
       "      <td>04869b68-29e3-4e8d-9bdb-950046fc3473</td>\n",
       "      <td>2024-08-05</td>\n",
       "      <td>2024-08-09 16:06:00.570</td>\n",
       "      <td>DOLLAR GENERAL STORE</td>\n",
       "      <td>654cf234a225ea102b81072e</td>\n",
       "      <td>7455271148840</td>\n",
       "      <td>1.0</td>\n",
       "      <td>1.65</td>\n",
       "    </tr>\n",
       "    <tr>\n",
       "      <th>25002</th>\n",
       "      <td>f1a96308-24a5-46a8-8d8c-285cf9dce1ba</td>\n",
       "      <td>2024-09-03</td>\n",
       "      <td>2024-09-03 11:28:25.264</td>\n",
       "      <td>WALMART</td>\n",
       "      <td>63c1cb6d3d310dceeac55487</td>\n",
       "      <td>370008287610</td>\n",
       "      <td>1.0</td>\n",
       "      <td>28.22</td>\n",
       "    </tr>\n",
       "    <tr>\n",
       "      <th>25003</th>\n",
       "      <td>7ee1798e-fd2e-4278-838b-f417fdcafe08</td>\n",
       "      <td>2024-08-30</td>\n",
       "      <td>2024-09-04 12:53:31.478</td>\n",
       "      <td>DOLLAR GENERAL STORE</td>\n",
       "      <td>65c29b137050d0a6206cd24f</td>\n",
       "      <td>120005040510</td>\n",
       "      <td>1.0</td>\n",
       "      <td>5.25</td>\n",
       "    </tr>\n",
       "    <tr>\n",
       "      <th>25004</th>\n",
       "      <td>21feab39-49f2-42e9-ae69-10371e2fc0a9</td>\n",
       "      <td>2024-08-23</td>\n",
       "      <td>2024-08-27 10:45:00.125</td>\n",
       "      <td>TARGET</td>\n",
       "      <td>61a58ac49c135b462ccddd1c</td>\n",
       "      <td>240003934290</td>\n",
       "      <td>1.0</td>\n",
       "      <td>2.59</td>\n",
       "    </tr>\n",
       "  </tbody>\n",
       "</table>\n",
       "</div>"
      ],
      "text/plain": [
       "                                 RECEIPT_ID PURCHASE_DATE  \\\n",
       "25000  7b3ec72d-9d30-40b8-b185-0bfb638942a9    2024-08-20   \n",
       "25001  04869b68-29e3-4e8d-9bdb-950046fc3473    2024-08-05   \n",
       "25002  f1a96308-24a5-46a8-8d8c-285cf9dce1ba    2024-09-03   \n",
       "25003  7ee1798e-fd2e-4278-838b-f417fdcafe08    2024-08-30   \n",
       "25004  21feab39-49f2-42e9-ae69-10371e2fc0a9    2024-08-23   \n",
       "\n",
       "                    SCAN_DATE            STORE_NAME                   USER_ID  \\\n",
       "25000 2024-08-20 11:17:29.633  DOLLAR GENERAL STORE  60fc1e6deb7585430ff52ee7   \n",
       "25001 2024-08-09 16:06:00.570  DOLLAR GENERAL STORE  654cf234a225ea102b81072e   \n",
       "25002 2024-09-03 11:28:25.264               WALMART  63c1cb6d3d310dceeac55487   \n",
       "25003 2024-09-04 12:53:31.478  DOLLAR GENERAL STORE  65c29b137050d0a6206cd24f   \n",
       "25004 2024-08-27 10:45:00.125                TARGET  61a58ac49c135b462ccddd1c   \n",
       "\n",
       "             BARCODE  FINAL_QUANTITY  FINAL_SALE  \n",
       "25000  7455271148840             1.0        1.65  \n",
       "25001  7455271148840             1.0        1.65  \n",
       "25002   370008287610             1.0       28.22  \n",
       "25003   120005040510             1.0        5.25  \n",
       "25004   240003934290             1.0        2.59  "
      ]
     },
     "execution_count": 94,
     "metadata": {},
     "output_type": "execute_result"
    }
   ],
   "source": [
    "# Check if there are any rows with final_quantity is not 0 and final_sale is also not 0\n",
    "transactions[(transactions['FINAL_QUANTITY'] != 0) & (transactions['FINAL_SALE'] != 0)].head()"
   ]
  },
  {
   "cell_type": "code",
   "execution_count": 95,
   "metadata": {},
   "outputs": [
    {
     "data": {
      "text/html": [
       "<div>\n",
       "<style scoped>\n",
       "    .dataframe tbody tr th:only-of-type {\n",
       "        vertical-align: middle;\n",
       "    }\n",
       "\n",
       "    .dataframe tbody tr th {\n",
       "        vertical-align: top;\n",
       "    }\n",
       "\n",
       "    .dataframe thead th {\n",
       "        text-align: right;\n",
       "    }\n",
       "</style>\n",
       "<table border=\"1\" class=\"dataframe\">\n",
       "  <thead>\n",
       "    <tr style=\"text-align: right;\">\n",
       "      <th></th>\n",
       "      <th>RECEIPT_ID</th>\n",
       "      <th>PURCHASE_DATE</th>\n",
       "      <th>SCAN_DATE</th>\n",
       "      <th>STORE_NAME</th>\n",
       "      <th>USER_ID</th>\n",
       "      <th>BARCODE</th>\n",
       "      <th>FINAL_QUANTITY</th>\n",
       "      <th>FINAL_SALE</th>\n",
       "    </tr>\n",
       "  </thead>\n",
       "  <tbody>\n",
       "    <tr>\n",
       "      <th>11942</th>\n",
       "      <td>7b3ec72d-9d30-40b8-b185-0bfb638942a9</td>\n",
       "      <td>2024-08-20</td>\n",
       "      <td>2024-08-20 11:17:29.633</td>\n",
       "      <td>DOLLAR GENERAL STORE</td>\n",
       "      <td>60fc1e6deb7585430ff52ee7</td>\n",
       "      <td>7455271148840</td>\n",
       "      <td>1.0</td>\n",
       "      <td>0.00</td>\n",
       "    </tr>\n",
       "    <tr>\n",
       "      <th>25000</th>\n",
       "      <td>7b3ec72d-9d30-40b8-b185-0bfb638942a9</td>\n",
       "      <td>2024-08-20</td>\n",
       "      <td>2024-08-20 11:17:29.633</td>\n",
       "      <td>DOLLAR GENERAL STORE</td>\n",
       "      <td>60fc1e6deb7585430ff52ee7</td>\n",
       "      <td>7455271148840</td>\n",
       "      <td>1.0</td>\n",
       "      <td>1.65</td>\n",
       "    </tr>\n",
       "  </tbody>\n",
       "</table>\n",
       "</div>"
      ],
      "text/plain": [
       "                                 RECEIPT_ID PURCHASE_DATE  \\\n",
       "11942  7b3ec72d-9d30-40b8-b185-0bfb638942a9    2024-08-20   \n",
       "25000  7b3ec72d-9d30-40b8-b185-0bfb638942a9    2024-08-20   \n",
       "\n",
       "                    SCAN_DATE            STORE_NAME                   USER_ID  \\\n",
       "11942 2024-08-20 11:17:29.633  DOLLAR GENERAL STORE  60fc1e6deb7585430ff52ee7   \n",
       "25000 2024-08-20 11:17:29.633  DOLLAR GENERAL STORE  60fc1e6deb7585430ff52ee7   \n",
       "\n",
       "             BARCODE  FINAL_QUANTITY  FINAL_SALE  \n",
       "11942  7455271148840             1.0        0.00  \n",
       "25000  7455271148840             1.0        1.65  "
      ]
     },
     "execution_count": 95,
     "metadata": {},
     "output_type": "execute_result"
    }
   ],
   "source": [
    "transactions[transactions['RECEIPT_ID'] == '7b3ec72d-9d30-40b8-b185-0bfb638942a9']"
   ]
  },
  {
   "cell_type": "code",
   "execution_count": 96,
   "metadata": {},
   "outputs": [
    {
     "data": {
      "text/html": [
       "<div>\n",
       "<style scoped>\n",
       "    .dataframe tbody tr th:only-of-type {\n",
       "        vertical-align: middle;\n",
       "    }\n",
       "\n",
       "    .dataframe tbody tr th {\n",
       "        vertical-align: top;\n",
       "    }\n",
       "\n",
       "    .dataframe thead th {\n",
       "        text-align: right;\n",
       "    }\n",
       "</style>\n",
       "<table border=\"1\" class=\"dataframe\">\n",
       "  <thead>\n",
       "    <tr style=\"text-align: right;\">\n",
       "      <th></th>\n",
       "      <th>RECEIPT_ID</th>\n",
       "      <th>PURCHASE_DATE</th>\n",
       "      <th>SCAN_DATE</th>\n",
       "      <th>STORE_NAME</th>\n",
       "      <th>USER_ID</th>\n",
       "      <th>BARCODE</th>\n",
       "      <th>FINAL_QUANTITY</th>\n",
       "      <th>FINAL_SALE</th>\n",
       "    </tr>\n",
       "  </thead>\n",
       "  <tbody>\n",
       "    <tr>\n",
       "      <th>0</th>\n",
       "      <td>0000d256-4041-4a3e-adc4-5623fb6e0c99</td>\n",
       "      <td>2024-08-21</td>\n",
       "      <td>2024-08-21 14:19:06.539</td>\n",
       "      <td>WALMART</td>\n",
       "      <td>63b73a7f3d310dceeabd4758</td>\n",
       "      <td>153000149780</td>\n",
       "      <td>1.0</td>\n",
       "      <td>0.00</td>\n",
       "    </tr>\n",
       "    <tr>\n",
       "      <th>41567</th>\n",
       "      <td>0000d256-4041-4a3e-adc4-5623fb6e0c99</td>\n",
       "      <td>2024-08-21</td>\n",
       "      <td>2024-08-21 14:19:06.539</td>\n",
       "      <td>WALMART</td>\n",
       "      <td>63b73a7f3d310dceeabd4758</td>\n",
       "      <td>153000149780</td>\n",
       "      <td>1.0</td>\n",
       "      <td>1.54</td>\n",
       "    </tr>\n",
       "    <tr>\n",
       "      <th>1</th>\n",
       "      <td>0001455d-7a92-4a7b-a1d2-c747af1c8fd3</td>\n",
       "      <td>2024-07-20</td>\n",
       "      <td>2024-07-20 09:50:24.206</td>\n",
       "      <td>ALDI</td>\n",
       "      <td>62c08877baa38d1a1f6c211a</td>\n",
       "      <td>NaN</td>\n",
       "      <td>0.0</td>\n",
       "      <td>1.49</td>\n",
       "    </tr>\n",
       "    <tr>\n",
       "      <th>39291</th>\n",
       "      <td>0001455d-7a92-4a7b-a1d2-c747af1c8fd3</td>\n",
       "      <td>2024-07-20</td>\n",
       "      <td>2024-07-20 09:50:24.206</td>\n",
       "      <td>ALDI</td>\n",
       "      <td>62c08877baa38d1a1f6c211a</td>\n",
       "      <td>NaN</td>\n",
       "      <td>1.0</td>\n",
       "      <td>1.49</td>\n",
       "    </tr>\n",
       "    <tr>\n",
       "      <th>2</th>\n",
       "      <td>00017e0a-7851-42fb-bfab-0baa96e23586</td>\n",
       "      <td>2024-08-18</td>\n",
       "      <td>2024-08-19 15:38:56.813</td>\n",
       "      <td>WALMART</td>\n",
       "      <td>60842f207ac8b7729e472020</td>\n",
       "      <td>787422297510</td>\n",
       "      <td>1.0</td>\n",
       "      <td>0.00</td>\n",
       "    </tr>\n",
       "  </tbody>\n",
       "</table>\n",
       "</div>"
      ],
      "text/plain": [
       "                                 RECEIPT_ID PURCHASE_DATE  \\\n",
       "0      0000d256-4041-4a3e-adc4-5623fb6e0c99    2024-08-21   \n",
       "41567  0000d256-4041-4a3e-adc4-5623fb6e0c99    2024-08-21   \n",
       "1      0001455d-7a92-4a7b-a1d2-c747af1c8fd3    2024-07-20   \n",
       "39291  0001455d-7a92-4a7b-a1d2-c747af1c8fd3    2024-07-20   \n",
       "2      00017e0a-7851-42fb-bfab-0baa96e23586    2024-08-18   \n",
       "\n",
       "                    SCAN_DATE STORE_NAME                   USER_ID  \\\n",
       "0     2024-08-21 14:19:06.539    WALMART  63b73a7f3d310dceeabd4758   \n",
       "41567 2024-08-21 14:19:06.539    WALMART  63b73a7f3d310dceeabd4758   \n",
       "1     2024-07-20 09:50:24.206       ALDI  62c08877baa38d1a1f6c211a   \n",
       "39291 2024-07-20 09:50:24.206       ALDI  62c08877baa38d1a1f6c211a   \n",
       "2     2024-08-19 15:38:56.813    WALMART  60842f207ac8b7729e472020   \n",
       "\n",
       "            BARCODE  FINAL_QUANTITY  FINAL_SALE  \n",
       "0      153000149780             1.0        0.00  \n",
       "41567  153000149780             1.0        1.54  \n",
       "1               NaN             0.0        1.49  \n",
       "39291           NaN             1.0        1.49  \n",
       "2      787422297510             1.0        0.00  "
      ]
     },
     "execution_count": 96,
     "metadata": {},
     "output_type": "execute_result"
    }
   ],
   "source": [
    "# Check rows with duplicated receipt_id\n",
    "transactions[transactions['RECEIPT_ID'].duplicated(keep=False)].sort_values('RECEIPT_ID').head()"
   ]
  },
  {
   "cell_type": "code",
   "execution_count": 97,
   "metadata": {},
   "outputs": [
    {
     "data": {
      "text/html": [
       "<div>\n",
       "<style scoped>\n",
       "    .dataframe tbody tr th:only-of-type {\n",
       "        vertical-align: middle;\n",
       "    }\n",
       "\n",
       "    .dataframe tbody tr th {\n",
       "        vertical-align: top;\n",
       "    }\n",
       "\n",
       "    .dataframe thead th {\n",
       "        text-align: right;\n",
       "    }\n",
       "</style>\n",
       "<table border=\"1\" class=\"dataframe\">\n",
       "  <thead>\n",
       "    <tr style=\"text-align: right;\">\n",
       "      <th></th>\n",
       "      <th>RECEIPT_ID</th>\n",
       "      <th>PURCHASE_DATE</th>\n",
       "      <th>SCAN_DATE</th>\n",
       "      <th>STORE_NAME</th>\n",
       "      <th>USER_ID</th>\n",
       "      <th>BARCODE</th>\n",
       "      <th>FINAL_QUANTITY</th>\n",
       "      <th>FINAL_SALE</th>\n",
       "    </tr>\n",
       "  </thead>\n",
       "  <tbody>\n",
       "    <tr>\n",
       "      <th>1</th>\n",
       "      <td>0001455d-7a92-4a7b-a1d2-c747af1c8fd3</td>\n",
       "      <td>2024-07-20</td>\n",
       "      <td>2024-07-20 09:50:24.206</td>\n",
       "      <td>ALDI</td>\n",
       "      <td>62c08877baa38d1a1f6c211a</td>\n",
       "      <td>NaN</td>\n",
       "      <td>0.0</td>\n",
       "      <td>1.49</td>\n",
       "    </tr>\n",
       "    <tr>\n",
       "      <th>39291</th>\n",
       "      <td>0001455d-7a92-4a7b-a1d2-c747af1c8fd3</td>\n",
       "      <td>2024-07-20</td>\n",
       "      <td>2024-07-20 09:50:24.206</td>\n",
       "      <td>ALDI</td>\n",
       "      <td>62c08877baa38d1a1f6c211a</td>\n",
       "      <td>NaN</td>\n",
       "      <td>1.0</td>\n",
       "      <td>1.49</td>\n",
       "    </tr>\n",
       "    <tr>\n",
       "      <th>9</th>\n",
       "      <td>0010d87d-1ad2-4e5e-9a25-cec736919d15</td>\n",
       "      <td>2024-08-04</td>\n",
       "      <td>2024-08-04 18:01:47.787</td>\n",
       "      <td>ALDI</td>\n",
       "      <td>66686fc2e04f743a096ea808</td>\n",
       "      <td>NaN</td>\n",
       "      <td>0.0</td>\n",
       "      <td>2.29</td>\n",
       "    </tr>\n",
       "    <tr>\n",
       "      <th>40976</th>\n",
       "      <td>0010d87d-1ad2-4e5e-9a25-cec736919d15</td>\n",
       "      <td>2024-08-04</td>\n",
       "      <td>2024-08-04 18:01:47.787</td>\n",
       "      <td>ALDI</td>\n",
       "      <td>66686fc2e04f743a096ea808</td>\n",
       "      <td>NaN</td>\n",
       "      <td>1.0</td>\n",
       "      <td>2.29</td>\n",
       "    </tr>\n",
       "    <tr>\n",
       "      <th>17</th>\n",
       "      <td>002ee298-d907-40ca-921a-556468571f76</td>\n",
       "      <td>2024-07-15</td>\n",
       "      <td>2024-07-16 16:42:19.211</td>\n",
       "      <td>ALDI</td>\n",
       "      <td>63de64b1dcb50fbd3084f142</td>\n",
       "      <td>NaN</td>\n",
       "      <td>0.0</td>\n",
       "      <td>2.49</td>\n",
       "    </tr>\n",
       "  </tbody>\n",
       "</table>\n",
       "</div>"
      ],
      "text/plain": [
       "                                 RECEIPT_ID PURCHASE_DATE  \\\n",
       "1      0001455d-7a92-4a7b-a1d2-c747af1c8fd3    2024-07-20   \n",
       "39291  0001455d-7a92-4a7b-a1d2-c747af1c8fd3    2024-07-20   \n",
       "9      0010d87d-1ad2-4e5e-9a25-cec736919d15    2024-08-04   \n",
       "40976  0010d87d-1ad2-4e5e-9a25-cec736919d15    2024-08-04   \n",
       "17     002ee298-d907-40ca-921a-556468571f76    2024-07-15   \n",
       "\n",
       "                    SCAN_DATE STORE_NAME                   USER_ID BARCODE  \\\n",
       "1     2024-07-20 09:50:24.206       ALDI  62c08877baa38d1a1f6c211a     NaN   \n",
       "39291 2024-07-20 09:50:24.206       ALDI  62c08877baa38d1a1f6c211a     NaN   \n",
       "9     2024-08-04 18:01:47.787       ALDI  66686fc2e04f743a096ea808     NaN   \n",
       "40976 2024-08-04 18:01:47.787       ALDI  66686fc2e04f743a096ea808     NaN   \n",
       "17    2024-07-16 16:42:19.211       ALDI  63de64b1dcb50fbd3084f142     NaN   \n",
       "\n",
       "       FINAL_QUANTITY  FINAL_SALE  \n",
       "1                 0.0        1.49  \n",
       "39291             1.0        1.49  \n",
       "9                 0.0        2.29  \n",
       "40976             1.0        2.29  \n",
       "17                0.0        2.49  "
      ]
     },
     "execution_count": 97,
     "metadata": {},
     "output_type": "execute_result"
    }
   ],
   "source": [
    "transactions[transactions['BARCODE'].isnull()].sort_values('RECEIPT_ID').head()"
   ]
  },
  {
   "cell_type": "code",
   "execution_count": 98,
   "metadata": {},
   "outputs": [
    {
     "name": "stderr",
     "output_type": "stream",
     "text": [
      "/tmp/ipykernel_962215/3484715969.py:1: FutureWarning: A value is trying to be set on a copy of a DataFrame or Series through chained assignment using an inplace method.\n",
      "The behavior will change in pandas 3.0. This inplace method will never work because the intermediate object on which we are setting values always behaves as a copy.\n",
      "\n",
      "For example, when doing 'df[col].method(value, inplace=True)', try using 'df.method({col: value}, inplace=True)' or df[col] = df[col].method(value) instead, to perform the operation inplace on the original object.\n",
      "\n",
      "\n",
      "  transactions['BARCODE'].fillna(' ', inplace=True)\n"
     ]
    }
   ],
   "source": [
    "transactions['BARCODE'].fillna(' ', inplace=True)"
   ]
  },
  {
   "cell_type": "code",
   "execution_count": 99,
   "metadata": {},
   "outputs": [],
   "source": [
    "# Group by receipt_id, purchase_date, scan_date, store_name, user_id, barcode and aggregate final_quantity and final_sale by max (non-zero)\n",
    "merged_transactions = transactions.groupby(\n",
    "    ['RECEIPT_ID', 'PURCHASE_DATE', 'SCAN_DATE', 'STORE_NAME', 'USER_ID', 'BARCODE']\n",
    ").agg(\n",
    "    final_quantity=('FINAL_QUANTITY', 'max'),\n",
    "    final_sale=('FINAL_SALE', 'max')\n",
    ").reset_index()"
   ]
  },
  {
   "cell_type": "code",
   "execution_count": 100,
   "metadata": {},
   "outputs": [
    {
     "data": {
      "text/html": [
       "<div>\n",
       "<style scoped>\n",
       "    .dataframe tbody tr th:only-of-type {\n",
       "        vertical-align: middle;\n",
       "    }\n",
       "\n",
       "    .dataframe tbody tr th {\n",
       "        vertical-align: top;\n",
       "    }\n",
       "\n",
       "    .dataframe thead th {\n",
       "        text-align: right;\n",
       "    }\n",
       "</style>\n",
       "<table border=\"1\" class=\"dataframe\">\n",
       "  <thead>\n",
       "    <tr style=\"text-align: right;\">\n",
       "      <th></th>\n",
       "      <th>RECEIPT_ID</th>\n",
       "      <th>PURCHASE_DATE</th>\n",
       "      <th>SCAN_DATE</th>\n",
       "      <th>STORE_NAME</th>\n",
       "      <th>USER_ID</th>\n",
       "      <th>BARCODE</th>\n",
       "      <th>final_quantity</th>\n",
       "      <th>final_sale</th>\n",
       "    </tr>\n",
       "  </thead>\n",
       "  <tbody>\n",
       "    <tr>\n",
       "      <th>0</th>\n",
       "      <td>0000d256-4041-4a3e-adc4-5623fb6e0c99</td>\n",
       "      <td>2024-08-21</td>\n",
       "      <td>2024-08-21 14:19:06.539</td>\n",
       "      <td>WALMART</td>\n",
       "      <td>63b73a7f3d310dceeabd4758</td>\n",
       "      <td>153000149780</td>\n",
       "      <td>1.0</td>\n",
       "      <td>1.54</td>\n",
       "    </tr>\n",
       "    <tr>\n",
       "      <th>1</th>\n",
       "      <td>0001455d-7a92-4a7b-a1d2-c747af1c8fd3</td>\n",
       "      <td>2024-07-20</td>\n",
       "      <td>2024-07-20 09:50:24.206</td>\n",
       "      <td>ALDI</td>\n",
       "      <td>62c08877baa38d1a1f6c211a</td>\n",
       "      <td></td>\n",
       "      <td>1.0</td>\n",
       "      <td>1.49</td>\n",
       "    </tr>\n",
       "    <tr>\n",
       "      <th>2</th>\n",
       "      <td>00017e0a-7851-42fb-bfab-0baa96e23586</td>\n",
       "      <td>2024-08-18</td>\n",
       "      <td>2024-08-19 15:38:56.813</td>\n",
       "      <td>WALMART</td>\n",
       "      <td>60842f207ac8b7729e472020</td>\n",
       "      <td>787422297510</td>\n",
       "      <td>1.0</td>\n",
       "      <td>2.54</td>\n",
       "    </tr>\n",
       "    <tr>\n",
       "      <th>3</th>\n",
       "      <td>000239aa-3478-453d-801e-66a82e39c8af</td>\n",
       "      <td>2024-06-18</td>\n",
       "      <td>2024-06-19 11:03:37.468</td>\n",
       "      <td>FOOD LION</td>\n",
       "      <td>63fcd7cea4f8442c3386b589</td>\n",
       "      <td>7833997465360</td>\n",
       "      <td>1.0</td>\n",
       "      <td>3.49</td>\n",
       "    </tr>\n",
       "    <tr>\n",
       "      <th>4</th>\n",
       "      <td>00026b4c-dfe8-49dd-b026-4c2f0fd5c6a1</td>\n",
       "      <td>2024-07-04</td>\n",
       "      <td>2024-07-05 15:56:43.549</td>\n",
       "      <td>RANDALLS</td>\n",
       "      <td>6193231ae9b3d75037b0f928</td>\n",
       "      <td>479005011830</td>\n",
       "      <td>1.0</td>\n",
       "      <td>5.29</td>\n",
       "    </tr>\n",
       "  </tbody>\n",
       "</table>\n",
       "</div>"
      ],
      "text/plain": [
       "                             RECEIPT_ID PURCHASE_DATE               SCAN_DATE  \\\n",
       "0  0000d256-4041-4a3e-adc4-5623fb6e0c99    2024-08-21 2024-08-21 14:19:06.539   \n",
       "1  0001455d-7a92-4a7b-a1d2-c747af1c8fd3    2024-07-20 2024-07-20 09:50:24.206   \n",
       "2  00017e0a-7851-42fb-bfab-0baa96e23586    2024-08-18 2024-08-19 15:38:56.813   \n",
       "3  000239aa-3478-453d-801e-66a82e39c8af    2024-06-18 2024-06-19 11:03:37.468   \n",
       "4  00026b4c-dfe8-49dd-b026-4c2f0fd5c6a1    2024-07-04 2024-07-05 15:56:43.549   \n",
       "\n",
       "  STORE_NAME                   USER_ID        BARCODE  final_quantity  \\\n",
       "0    WALMART  63b73a7f3d310dceeabd4758   153000149780             1.0   \n",
       "1       ALDI  62c08877baa38d1a1f6c211a                            1.0   \n",
       "2    WALMART  60842f207ac8b7729e472020   787422297510             1.0   \n",
       "3  FOOD LION  63fcd7cea4f8442c3386b589  7833997465360             1.0   \n",
       "4   RANDALLS  6193231ae9b3d75037b0f928   479005011830             1.0   \n",
       "\n",
       "   final_sale  \n",
       "0        1.54  \n",
       "1        1.49  \n",
       "2        2.54  \n",
       "3        3.49  \n",
       "4        5.29  "
      ]
     },
     "execution_count": 100,
     "metadata": {},
     "output_type": "execute_result"
    }
   ],
   "source": [
    "# Check first 5 rows of merged_transactions\n",
    "merged_transactions.head()"
   ]
  },
  {
   "cell_type": "code",
   "execution_count": 101,
   "metadata": {},
   "outputs": [
    {
     "data": {
      "text/plain": [
       "0"
      ]
     },
     "execution_count": 101,
     "metadata": {},
     "output_type": "execute_result"
    }
   ],
   "source": [
    "# Check if there are still rows with duplicated receipt_id and barcode\n",
    "merged_transactions[['RECEIPT_ID', 'BARCODE']].duplicated().sum()"
   ]
  },
  {
   "cell_type": "code",
   "execution_count": 102,
   "metadata": {},
   "outputs": [
    {
     "data": {
      "text/plain": [
       "(24795, 8)"
      ]
     },
     "execution_count": 102,
     "metadata": {},
     "output_type": "execute_result"
    }
   ],
   "source": [
    "# Check the shape of merged_transactions\n",
    "merged_transactions.shape"
   ]
  },
  {
   "cell_type": "code",
   "execution_count": 103,
   "metadata": {},
   "outputs": [
    {
     "data": {
      "text/plain": [
       "(50000, 8)"
      ]
     },
     "execution_count": 103,
     "metadata": {},
     "output_type": "execute_result"
    }
   ],
   "source": [
    "# Compare with the shape of transactions\n",
    "transactions.shape"
   ]
  },
  {
   "cell_type": "code",
   "execution_count": 104,
   "metadata": {},
   "outputs": [
    {
     "data": {
      "text/html": [
       "<div>\n",
       "<style scoped>\n",
       "    .dataframe tbody tr th:only-of-type {\n",
       "        vertical-align: middle;\n",
       "    }\n",
       "\n",
       "    .dataframe tbody tr th {\n",
       "        vertical-align: top;\n",
       "    }\n",
       "\n",
       "    .dataframe thead th {\n",
       "        text-align: right;\n",
       "    }\n",
       "</style>\n",
       "<table border=\"1\" class=\"dataframe\">\n",
       "  <thead>\n",
       "    <tr style=\"text-align: right;\">\n",
       "      <th></th>\n",
       "      <th>RECEIPT_ID</th>\n",
       "      <th>PURCHASE_DATE</th>\n",
       "      <th>SCAN_DATE</th>\n",
       "      <th>STORE_NAME</th>\n",
       "      <th>USER_ID</th>\n",
       "      <th>BARCODE</th>\n",
       "      <th>final_quantity</th>\n",
       "      <th>final_sale</th>\n",
       "    </tr>\n",
       "  </thead>\n",
       "  <tbody>\n",
       "    <tr>\n",
       "      <th>1</th>\n",
       "      <td>0001455d-7a92-4a7b-a1d2-c747af1c8fd3</td>\n",
       "      <td>2024-07-20</td>\n",
       "      <td>2024-07-20 09:50:24.206</td>\n",
       "      <td>ALDI</td>\n",
       "      <td>62c08877baa38d1a1f6c211a</td>\n",
       "      <td>NaN</td>\n",
       "      <td>1.0</td>\n",
       "      <td>1.49</td>\n",
       "    </tr>\n",
       "    <tr>\n",
       "      <th>9</th>\n",
       "      <td>0010d87d-1ad2-4e5e-9a25-cec736919d15</td>\n",
       "      <td>2024-08-04</td>\n",
       "      <td>2024-08-04 18:01:47.787</td>\n",
       "      <td>ALDI</td>\n",
       "      <td>66686fc2e04f743a096ea808</td>\n",
       "      <td>NaN</td>\n",
       "      <td>1.0</td>\n",
       "      <td>2.29</td>\n",
       "    </tr>\n",
       "    <tr>\n",
       "      <th>17</th>\n",
       "      <td>002ee298-d907-40ca-921a-556468571f76</td>\n",
       "      <td>2024-07-15</td>\n",
       "      <td>2024-07-16 16:42:19.211</td>\n",
       "      <td>ALDI</td>\n",
       "      <td>63de64b1dcb50fbd3084f142</td>\n",
       "      <td>NaN</td>\n",
       "      <td>1.0</td>\n",
       "      <td>2.49</td>\n",
       "    </tr>\n",
       "    <tr>\n",
       "      <th>18</th>\n",
       "      <td>00326689-e763-4b27-9ad5-202fc93609e2</td>\n",
       "      <td>2024-06-19</td>\n",
       "      <td>2024-06-20 08:59:38.397</td>\n",
       "      <td>ALDI</td>\n",
       "      <td>6158642597d737581b5d30ee</td>\n",
       "      <td>NaN</td>\n",
       "      <td>1.0</td>\n",
       "      <td>1.89</td>\n",
       "    </tr>\n",
       "    <tr>\n",
       "      <th>59</th>\n",
       "      <td>00a9e033-e49d-45d6-990e-90631f82775e</td>\n",
       "      <td>2024-09-05</td>\n",
       "      <td>2024-09-05 11:10:54.831</td>\n",
       "      <td>ALDI</td>\n",
       "      <td>5d4f08e962fb4a4a58574e7f</td>\n",
       "      <td>NaN</td>\n",
       "      <td>1.0</td>\n",
       "      <td>2.09</td>\n",
       "    </tr>\n",
       "  </tbody>\n",
       "</table>\n",
       "</div>"
      ],
      "text/plain": [
       "                              RECEIPT_ID PURCHASE_DATE  \\\n",
       "1   0001455d-7a92-4a7b-a1d2-c747af1c8fd3    2024-07-20   \n",
       "9   0010d87d-1ad2-4e5e-9a25-cec736919d15    2024-08-04   \n",
       "17  002ee298-d907-40ca-921a-556468571f76    2024-07-15   \n",
       "18  00326689-e763-4b27-9ad5-202fc93609e2    2024-06-19   \n",
       "59  00a9e033-e49d-45d6-990e-90631f82775e    2024-09-05   \n",
       "\n",
       "                 SCAN_DATE STORE_NAME                   USER_ID BARCODE  \\\n",
       "1  2024-07-20 09:50:24.206       ALDI  62c08877baa38d1a1f6c211a     NaN   \n",
       "9  2024-08-04 18:01:47.787       ALDI  66686fc2e04f743a096ea808     NaN   \n",
       "17 2024-07-16 16:42:19.211       ALDI  63de64b1dcb50fbd3084f142     NaN   \n",
       "18 2024-06-20 08:59:38.397       ALDI  6158642597d737581b5d30ee     NaN   \n",
       "59 2024-09-05 11:10:54.831       ALDI  5d4f08e962fb4a4a58574e7f     NaN   \n",
       "\n",
       "    final_quantity  final_sale  \n",
       "1              1.0        1.49  \n",
       "9              1.0        2.29  \n",
       "17             1.0        2.49  \n",
       "18             1.0        1.89  \n",
       "59             1.0        2.09  "
      ]
     },
     "execution_count": 104,
     "metadata": {},
     "output_type": "execute_result"
    }
   ],
   "source": [
    "# Change ' ' in barcode to np.nan\n",
    "merged_transactions['BARCODE'] = merged_transactions['BARCODE'].replace(' ', np.nan)\n",
    "\n",
    "# Check for missing values in barcode\n",
    "merged_transactions[merged_transactions['BARCODE'].isnull()].head()"
   ]
  },
  {
   "cell_type": "code",
   "execution_count": 105,
   "metadata": {},
   "outputs": [],
   "source": [
    "merged_transactions = merged_transactions.fillna('')"
   ]
  },
  {
   "cell_type": "code",
   "execution_count": 106,
   "metadata": {},
   "outputs": [],
   "source": [
    "# Save the transactions data to transactions_cleaned.csv\n",
    "merged_transactions.to_csv('../data/processed/transactions_cleaned.csv', index=False, header=True)"
   ]
  },
  {
   "cell_type": "markdown",
   "metadata": {},
   "source": [
    "# Data Exploration"
   ]
  },
  {
   "cell_type": "markdown",
   "metadata": {},
   "source": [
    "## Explore users"
   ]
  },
  {
   "cell_type": "markdown",
   "metadata": {},
   "source": [
    "## Explore products"
   ]
  },
  {
   "cell_type": "markdown",
   "metadata": {},
   "source": [
    "## Explore transactions"
   ]
  },
  {
   "cell_type": "code",
   "execution_count": null,
   "metadata": {},
   "outputs": [],
   "source": []
  },
  {
   "cell_type": "markdown",
   "metadata": {},
   "source": [
    "## Explore aggregated data"
   ]
  },
  {
   "cell_type": "code",
   "execution_count": null,
   "metadata": {},
   "outputs": [],
   "source": []
  },
  {
   "cell_type": "markdown",
   "metadata": {},
   "source": [
    "# Load Data to Database\n",
    "Please download and install SQLite3, and then run ./load_data.sh to create database and load data to the database."
   ]
  },
  {
   "cell_type": "code",
   "execution_count": 2,
   "metadata": {},
   "outputs": [],
   "source": [
    "# Importing the libraries\n",
    "import sqlite3"
   ]
  },
  {
   "cell_type": "code",
   "execution_count": 3,
   "metadata": {},
   "outputs": [],
   "source": [
    "# Load the sql extension\n",
    "%load_ext sql"
   ]
  },
  {
   "cell_type": "code",
   "execution_count": 4,
   "metadata": {},
   "outputs": [],
   "source": [
    "# Load the database\n",
    "%sql sqlite:///../data/fetch_data.db"
   ]
  },
  {
   "cell_type": "markdown",
   "metadata": {},
   "source": [
    "# Provide SQL Querries"
   ]
  },
  {
   "cell_type": "markdown",
   "metadata": {},
   "source": [
    "## Close-ended Questions"
   ]
  },
  {
   "cell_type": "markdown",
   "metadata": {},
   "source": [
    "### What are the top 5 brands by receipts scanned among users 21 and over?\n",
    "A: The top 5 brands by receipts scanned among users 21 and over would be:\n",
    "- ANNIE'S HOMEGROWN GROCERY\n",
    "- DOVE\n",
    "- BAREFOOT\n",
    "- ORIBE\n",
    "- SHEA MOISTURE\n"
   ]
  },
  {
   "cell_type": "code",
   "execution_count": 5,
   "metadata": {},
   "outputs": [
    {
     "name": "stdout",
     "output_type": "stream",
     "text": [
      " * sqlite:///../data/fetch_data.db\n",
      "Done.\n"
     ]
    },
    {
     "data": {
      "text/html": [
       "<table>\n",
       "    <tr>\n",
       "        <th>BRAND</th>\n",
       "        <th>total_receipts</th>\n",
       "        <th>rank</th>\n",
       "    </tr>\n",
       "    <tr>\n",
       "        <td>ANNIE&#x27;S HOMEGROWN GROCERY</td>\n",
       "        <td>264</td>\n",
       "        <td>1</td>\n",
       "    </tr>\n",
       "    <tr>\n",
       "        <td>DOVE</td>\n",
       "        <td>253</td>\n",
       "        <td>2</td>\n",
       "    </tr>\n",
       "    <tr>\n",
       "        <td>BAREFOOT</td>\n",
       "        <td>253</td>\n",
       "        <td>2</td>\n",
       "    </tr>\n",
       "    <tr>\n",
       "        <td>ORIBE</td>\n",
       "        <td>231</td>\n",
       "        <td>4</td>\n",
       "    </tr>\n",
       "    <tr>\n",
       "        <td>SHEA MOISTURE</td>\n",
       "        <td>220</td>\n",
       "        <td>5</td>\n",
       "    </tr>\n",
       "</table>"
      ],
      "text/plain": [
       "[(\"ANNIE'S HOMEGROWN GROCERY\", 264, 1),\n",
       " ('DOVE', 253, 2),\n",
       " ('BAREFOOT', 253, 2),\n",
       " ('ORIBE', 231, 4),\n",
       " ('SHEA MOISTURE', 220, 5)]"
      ]
     },
     "execution_count": 5,
     "metadata": {},
     "output_type": "execute_result"
    }
   ],
   "source": [
    "%%sql\n",
    "WITH receipt_count AS (\n",
    "    SELECT\n",
    "        user_id,\n",
    "        barcode,\n",
    "        -- Count the number of distinct receipt_id per user-product pair\n",
    "        COUNT(DISTINCT receipt_id) AS receipt_count \n",
    "    FROM\n",
    "        transactions\n",
    "    WHERE\n",
    "        scan_date IS NOT NULL\n",
    "        AND barcode IS NOT NULL\n",
    "        AND user_id IS NOT NULL\n",
    "    GROUP BY\n",
    "        user_id, barcode\n",
    ")\n",
    "SELECT\n",
    "    p.brand,\n",
    "    -- Sum the total receipt counts per brand\n",
    "    SUM(r.receipt_count) AS total_receipts,\n",
    "    -- Rank brands based on total_receipts\n",
    "    RANK() OVER (ORDER BY SUM(r.receipt_count) DESC) AS rank\n",
    "FROM\n",
    "    products p\n",
    "INNER JOIN receipt_count r\n",
    "    ON p.barcode = r.barcode\n",
    "INNER JOIN users u\n",
    "    ON r.user_id = u.id\n",
    "WHERE\n",
    "    p.brand IS NOT NULL\n",
    "    AND TRIM(p.brand) <> ''\n",
    "    AND u.birth_date IS NOT NULL\n",
    "    -- Ensure users are at least 21 years old\n",
    "    AND (julianday('NOW') - julianday(u.birth_date) >= 21 * 365)\n",
    "GROUP BY\n",
    "    p.brand\n",
    "ORDER BY\n",
    "    rank\n",
    "LIMIT 5;\n"
   ]
  },
  {
   "cell_type": "markdown",
   "metadata": {},
   "source": [
    "### What are the top 5 brands by sales among users that have had their account for at least six months?\n",
    "A: The top 5 brands by sales among users that have had their account for at least six month would be:\n",
    "- ANNIE'S HOMEGROWN GROCERY\n",
    "- BAREFOOT\n",
    "- DOVE\n",
    "- ORIBE\n",
    "- AVEENO"
   ]
  },
  {
   "cell_type": "code",
   "execution_count": 6,
   "metadata": {},
   "outputs": [
    {
     "name": "stdout",
     "output_type": "stream",
     "text": [
      " * sqlite:///../data/fetch_data.db\n",
      "Done.\n"
     ]
    },
    {
     "data": {
      "text/html": [
       "<table>\n",
       "    <tr>\n",
       "        <th>brand</th>\n",
       "        <th>total_sales</th>\n",
       "        <th>rank</th>\n",
       "    </tr>\n",
       "    <tr>\n",
       "        <td>ANNIE&#x27;S HOMEGROWN GROCERY</td>\n",
       "        <td>1481.28</td>\n",
       "        <td>1</td>\n",
       "    </tr>\n",
       "    <tr>\n",
       "        <td>BAREFOOT</td>\n",
       "        <td>1419.56</td>\n",
       "        <td>2</td>\n",
       "    </tr>\n",
       "    <tr>\n",
       "        <td>DOVE</td>\n",
       "        <td>1419.56</td>\n",
       "        <td>2</td>\n",
       "    </tr>\n",
       "    <tr>\n",
       "        <td>ORIBE</td>\n",
       "        <td>1296.12</td>\n",
       "        <td>4</td>\n",
       "    </tr>\n",
       "    <tr>\n",
       "        <td>AVEENO</td>\n",
       "        <td>1234.4</td>\n",
       "        <td>5</td>\n",
       "    </tr>\n",
       "</table>"
      ],
      "text/plain": [
       "[(\"ANNIE'S HOMEGROWN GROCERY\", 1481.28, 1),\n",
       " ('BAREFOOT', 1419.56, 2),\n",
       " ('DOVE', 1419.56, 2),\n",
       " ('ORIBE', 1296.12, 4),\n",
       " ('AVEENO', 1234.4, 5)]"
      ]
     },
     "execution_count": 6,
     "metadata": {},
     "output_type": "execute_result"
    }
   ],
   "source": [
    "%%sql\n",
    "WITH brand_sales AS (\n",
    "    SELECT\n",
    "        p.brand,\n",
    "        -- Sum the total sales for each brand\n",
    "        ROUND(SUM(COALESCE(t.final_sale, 0)), 2) AS total_sales\n",
    "    FROM\n",
    "        transactions t\n",
    "    INNER JOIN products p\n",
    "        ON t.barcode = p.barcode\n",
    "    INNER JOIN users u\n",
    "        ON t.user_id = u.id\n",
    "    WHERE\n",
    "        p.brand IS NOT NULL\n",
    "        AND TRIM(p.brand) <> ''\n",
    "        AND u.created_date IS NOT NULL\n",
    "        -- Filter for users with accounts at least 6 months old\n",
    "        AND (julianday('NOW') - julianday(u.created_date) >= 182.5)\n",
    "    GROUP BY\n",
    "        p.brand\n",
    ")\n",
    "SELECT \n",
    "    brand,\n",
    "    total_sales,\n",
    "    RANK() OVER (ORDER BY total_sales DESC) AS rank\n",
    "FROM \n",
    "    brand_sales\n",
    "WHERE \n",
    "    total_sales > 0\n",
    "ORDER BY \n",
    "    rank\n",
    "LIMIT 5;"
   ]
  },
  {
   "cell_type": "markdown",
   "metadata": {},
   "source": [
    "### What is the percentage of sales in the Health & Wellness category by generation?\n",
    "A: Assume that the generations are defined as:\n",
    "- The Greatest Generation: Born 1901–1927\n",
    "- The Silent Generation: Born 1928–1945\n",
    "- Generation X: Born 1965–1980\n",
    "- Millennials: Born 1981–1996\n",
    "- Generation Z: Born 1997–2012\n",
    "- Generation Alpha: Born 2013–2024\n",
    "- Generation Beta: Born 2025–2039\n",
    "\n",
    "The percentage of sales would be:\n",
    "|Generation  | Percentage of Sales |\n",
    "|------------|---------------------|\n",
    "|Millennial  | 55.78%              |\n",
    "|Baby Boomer | 24.81%              |\n",
    "|Gen X       | 19.41%              |"
   ]
  },
  {
   "cell_type": "code",
   "execution_count": 7,
   "metadata": {},
   "outputs": [
    {
     "name": "stdout",
     "output_type": "stream",
     "text": [
      " * sqlite:///../data/fetch_data.db\n",
      "Done.\n"
     ]
    },
    {
     "data": {
      "text/html": [
       "<table>\n",
       "    <tr>\n",
       "        <th>generation</th>\n",
       "        <th>percentage_of_total_sales</th>\n",
       "    </tr>\n",
       "    <tr>\n",
       "        <td>Millennial</td>\n",
       "        <td>55.78</td>\n",
       "    </tr>\n",
       "    <tr>\n",
       "        <td>Baby Boomer</td>\n",
       "        <td>24.81</td>\n",
       "    </tr>\n",
       "    <tr>\n",
       "        <td>Gen X</td>\n",
       "        <td>19.41</td>\n",
       "    </tr>\n",
       "</table>"
      ],
      "text/plain": [
       "[('Millennial', 55.78), ('Baby Boomer', 24.81), ('Gen X', 19.41)]"
      ]
     },
     "execution_count": 7,
     "metadata": {},
     "output_type": "execute_result"
    }
   ],
   "source": [
    "%%sql\n",
    "WITH category_sales AS (\n",
    "    SELECT\n",
    "        user_id,\n",
    "        SUM(COALESCE(final_sale, 0)) AS total_sales\n",
    "    FROM\n",
    "        transactions t\n",
    "    JOIN products p\n",
    "        ON t.barcode = p.barcode\n",
    "    WHERE\n",
    "        p.category_1 = 'Health & Wellness'\n",
    "    GROUP BY\n",
    "        user_id\n",
    "),\n",
    "generation_sales AS (\n",
    "    SELECT\n",
    "        CASE\n",
    "            WHEN birth_date BETWEEN '1901-01-01' AND '1927-12-31' THEN 'Greatest Generation'\n",
    "            WHEN birth_date BETWEEN '1928-01-01' AND '1945-12-31' THEN 'Silent Generation'\n",
    "            WHEN birth_date BETWEEN '1946-01-01' AND '1964-12-31' THEN 'Baby Boomer'\n",
    "            WHEN birth_date BETWEEN '1965-01-01' AND '1980-12-31' THEN 'Gen X'\n",
    "            WHEN birth_date BETWEEN '1981-01-01' AND '1996-12-31' THEN 'Millennial'\n",
    "            WHEN birth_date BETWEEN '1997-01-01' AND '2012-12-31' THEN 'Gen Z'\n",
    "            WHEN birth_date BETWEEN '2013-01-01' AND '2024-12-31' THEN 'Alpha'\n",
    "            WHEN birth_date BETWEEN '2025-01-01' AND '2039-12-31' THEN 'Beta'\n",
    "            ELSE 'Unknown'\n",
    "        END AS generation,\n",
    "        SUM(COALESCE(cs.total_sales, 0)) AS total_sales\n",
    "    FROM\n",
    "        users u\n",
    "    JOIN category_sales cs\n",
    "        ON u.id = cs.user_id\n",
    "    WHERE\n",
    "        u.birth_date IS NOT NULL\n",
    "    GROUP BY \n",
    "        generation\n",
    "),\n",
    "total_sales AS (\n",
    "    SELECT SUM(COALESCE(total_sales, 0)) AS grand_total FROM generation_sales\n",
    ")\n",
    "SELECT \n",
    "    g.generation,\n",
    "    ROUND((g.total_sales * 100.0) / t.grand_total, 2) AS percentage_of_total_sales\n",
    "FROM \n",
    "    generation_sales g\n",
    "CROSS JOIN \n",
    "    total_sales t\n",
    "ORDER BY \n",
    "    2 DESC;"
   ]
  },
  {
   "cell_type": "markdown",
   "metadata": {},
   "source": [
    "## Open-ended questions: for these, make assumptions and clearly state them when answering the question."
   ]
  },
  {
   "cell_type": "markdown",
   "metadata": {},
   "source": [
    "### Who are Fetch’s power users?"
   ]
  },
  {
   "cell_type": "markdown",
   "metadata": {},
   "source": [
    "A: I list 5 power users based on self-defined metrics:\n",
    "\n",
    "| user_id                  | user_power_score |\n",
    "|--------------------------|------------------|\n",
    "| 64e62de5ca929250373e6cf5 | 0.6              |\n",
    "| 63d97d69b425eb11a4709d56 | 0.45             |\n",
    "| 63dad1d9dcb50fbd3082d53c | 0.45             |\n",
    "| 630789e1101ae272a4852287 | 0.35             |\n",
    "| 6495efa3127ddb5d7fffbee9 | 0.3              |"
   ]
  },
  {
   "cell_type": "markdown",
   "metadata": {},
   "source": [
    "#### Metric 1: Total receipt count\n",
    "This metric represents the engagement of the user. More receipts = More data points = More valuable for business insights."
   ]
  },
  {
   "cell_type": "code",
   "execution_count": 35,
   "metadata": {},
   "outputs": [
    {
     "name": "stdout",
     "output_type": "stream",
     "text": [
      " * sqlite:///../data/fetch_data.db\n",
      "Done.\n"
     ]
    },
    {
     "data": {
      "text/html": [
       "<table>\n",
       "    <tr>\n",
       "        <th>USER_ID</th>\n",
       "        <th>total_receipts</th>\n",
       "    </tr>\n",
       "    <tr>\n",
       "        <td>64e62de5ca929250373e6cf5</td>\n",
       "        <td>10</td>\n",
       "    </tr>\n",
       "    <tr>\n",
       "        <td>62925c1be942f00613f7365e</td>\n",
       "        <td>10</td>\n",
       "    </tr>\n",
       "    <tr>\n",
       "        <td>64063c8880552327897186a5</td>\n",
       "        <td>9</td>\n",
       "    </tr>\n",
       "    <tr>\n",
       "        <td>6327a07aca87b39d76e03864</td>\n",
       "        <td>7</td>\n",
       "    </tr>\n",
       "    <tr>\n",
       "        <td>624dca0770c07012cd5e6c03</td>\n",
       "        <td>7</td>\n",
       "    </tr>\n",
       "</table>"
      ],
      "text/plain": [
       "[('64e62de5ca929250373e6cf5', 10),\n",
       " ('62925c1be942f00613f7365e', 10),\n",
       " ('64063c8880552327897186a5', 9),\n",
       " ('6327a07aca87b39d76e03864', 7),\n",
       " ('624dca0770c07012cd5e6c03', 7)]"
      ]
     },
     "execution_count": 35,
     "metadata": {},
     "output_type": "execute_result"
    }
   ],
   "source": [
    "%%sql\n",
    "SELECT\n",
    "    t.user_id,\n",
    "    COUNT(DISTINCT t.receipt_id) AS total_receipts\n",
    "FROM transactions t\n",
    "LEFT JOIN users u\n",
    "    ON t.user_id = u.id\n",
    "WHERE t.user_id IS NOT NULL\n",
    "GROUP BY 1\n",
    "ORDER BY 2 DESC\n",
    "LIMIT 5;\n"
   ]
  },
  {
   "cell_type": "markdown",
   "metadata": {},
   "source": [
    "#### Metric 2: Total Spent Per Receipt\n",
    "This metric suggests higher spending behavior of the user. These types of users are relatively rare and the data they provide would be valuable."
   ]
  },
  {
   "cell_type": "code",
   "execution_count": 34,
   "metadata": {},
   "outputs": [
    {
     "name": "stdout",
     "output_type": "stream",
     "text": [
      " * sqlite:///../data/fetch_data.db\n",
      "Done.\n"
     ]
    },
    {
     "data": {
      "text/html": [
       "<table>\n",
       "    <tr>\n",
       "        <th>USER_ID</th>\n",
       "        <th>total_spent_per_receipt</th>\n",
       "    </tr>\n",
       "    <tr>\n",
       "        <td>630789e1101ae272a4852287</td>\n",
       "        <td>462.82</td>\n",
       "    </tr>\n",
       "    <tr>\n",
       "        <td>650874eafe41d365c2ee11d2</td>\n",
       "        <td>267.29</td>\n",
       "    </tr>\n",
       "    <tr>\n",
       "        <td>63af23db9f3fc9c7546fdbec</td>\n",
       "        <td>238.17</td>\n",
       "    </tr>\n",
       "    <tr>\n",
       "        <td>6475fd16a55bb77a0e279ee0</td>\n",
       "        <td>77.8</td>\n",
       "    </tr>\n",
       "    <tr>\n",
       "        <td>64e026394a487a081bd8d5d0</td>\n",
       "        <td>74.99</td>\n",
       "    </tr>\n",
       "</table>"
      ],
      "text/plain": [
       "[('630789e1101ae272a4852287', 462.82),\n",
       " ('650874eafe41d365c2ee11d2', 267.29),\n",
       " ('63af23db9f3fc9c7546fdbec', 238.17),\n",
       " ('6475fd16a55bb77a0e279ee0', 77.8),\n",
       " ('64e026394a487a081bd8d5d0', 74.99)]"
      ]
     },
     "execution_count": 34,
     "metadata": {},
     "output_type": "execute_result"
    }
   ],
   "source": [
    "%%sql\n",
    "SELECT \n",
    "    user_id, \n",
    "    SUM(final_sale) / COUNT(DISTINCT receipt_id) AS total_spent_per_receipt\n",
    "FROM transactions\n",
    "GROUP BY 1\n",
    "ORDER BY 2 DESC\n",
    "LIMIT 5;"
   ]
  },
  {
   "cell_type": "markdown",
   "metadata": {},
   "source": [
    "#### Metric 3: Brand Diversity\n",
    "A user who purchases multiple brands provides broader insights and thus valuable.\n",
    "\n",
    "(In this case, the data exhibits a consistent pattern, which could indicate a potential error.)"
   ]
  },
  {
   "cell_type": "code",
   "execution_count": 9,
   "metadata": {},
   "outputs": [
    {
     "name": "stdout",
     "output_type": "stream",
     "text": [
      " * sqlite:///../data/fetch_data.db\n",
      "Done.\n"
     ]
    },
    {
     "data": {
      "text/html": [
       "<table>\n",
       "    <tr>\n",
       "        <th>USER_ID</th>\n",
       "        <th>unique_brands</th>\n",
       "    </tr>\n",
       "    <tr>\n",
       "        <td>6682d2da86cc41b000ce639c</td>\n",
       "        <td>770</td>\n",
       "    </tr>\n",
       "    <tr>\n",
       "        <td>66821c43465f309038ae0982</td>\n",
       "        <td>770</td>\n",
       "    </tr>\n",
       "    <tr>\n",
       "        <td>6681db52465f309038adf861</td>\n",
       "        <td>770</td>\n",
       "    </tr>\n",
       "    <tr>\n",
       "        <td>66815d6686cc41b000ce2134</td>\n",
       "        <td>770</td>\n",
       "    </tr>\n",
       "    <tr>\n",
       "        <td>6680bd2986cc41b000ce1494</td>\n",
       "        <td>770</td>\n",
       "    </tr>\n",
       "</table>"
      ],
      "text/plain": [
       "[('6682d2da86cc41b000ce639c', 770),\n",
       " ('66821c43465f309038ae0982', 770),\n",
       " ('6681db52465f309038adf861', 770),\n",
       " ('66815d6686cc41b000ce2134', 770),\n",
       " ('6680bd2986cc41b000ce1494', 770)]"
      ]
     },
     "execution_count": 9,
     "metadata": {},
     "output_type": "execute_result"
    }
   ],
   "source": [
    "%%sql\n",
    "SELECT \n",
    "    t.user_id, \n",
    "    COUNT(DISTINCT p.brand) AS unique_brands\n",
    "FROM transactions t\n",
    "JOIN products p ON t.barcode = p.barcode\n",
    "GROUP BY 1\n",
    "ORDER BY 2 DESC\n",
    "LIMIT 5;"
   ]
  },
  {
   "cell_type": "markdown",
   "metadata": {},
   "source": [
    "#### Metric 4: Active Period\n",
    "This metrics evaluate the loyalty of the user.\n",
    "\n",
    "(In this case, the data exhibits a consistent pattern, which could indicate a potential error.)"
   ]
  },
  {
   "cell_type": "code",
   "execution_count": null,
   "metadata": {},
   "outputs": [
    {
     "name": "stdout",
     "output_type": "stream",
     "text": [
      " * sqlite:///../data/fetch_data.db\n",
      "Done.\n"
     ]
    },
    {
     "data": {
      "text/html": [
       "<table>\n",
       "    <tr>\n",
       "        <th>USER_ID</th>\n",
       "        <th>active_months</th>\n",
       "    </tr>\n",
       "    <tr>\n",
       "        <td>666a2e417c0469953bfd9656</td>\n",
       "        <td>4</td>\n",
       "    </tr>\n",
       "    <tr>\n",
       "        <td>65bfa5dbe43f8851491ca8dd</td>\n",
       "        <td>4</td>\n",
       "    </tr>\n",
       "    <tr>\n",
       "        <td>655d0bed50f017da4e46566b</td>\n",
       "        <td>4</td>\n",
       "    </tr>\n",
       "    <tr>\n",
       "        <td>6556e840a225ea102b82454c</td>\n",
       "        <td>4</td>\n",
       "    </tr>\n",
       "    <tr>\n",
       "        <td>653ec447a225ea102b7f0846</td>\n",
       "        <td>4</td>\n",
       "    </tr>\n",
       "</table>"
      ],
      "text/plain": [
       "[('666a2e417c0469953bfd9656', 4),\n",
       " ('65bfa5dbe43f8851491ca8dd', 4),\n",
       " ('655d0bed50f017da4e46566b', 4),\n",
       " ('6556e840a225ea102b82454c', 4),\n",
       " ('653ec447a225ea102b7f0846', 4)]"
      ]
     },
     "execution_count": 50,
     "metadata": {},
     "output_type": "execute_result"
    }
   ],
   "source": [
    "%%sql\n",
    "SELECT \n",
    "    user_id, \n",
    "    COUNT(DISTINCT strftime('%Y-%m', scan_date)) AS active_months\n",
    "FROM transactions\n",
    "GROUP BY 1\n",
    "ORDER BY 2 DESC\n",
    "LIMIT 5;"
   ]
  },
  {
   "cell_type": "markdown",
   "metadata": {},
   "source": [
    "#### Metric 5: Store Variety\n",
    "Multi-store shoppers reveal store competition trends for business partners."
   ]
  },
  {
   "cell_type": "code",
   "execution_count": 54,
   "metadata": {},
   "outputs": [
    {
     "name": "stdout",
     "output_type": "stream",
     "text": [
      " * sqlite:///../data/fetch_data.db\n",
      "Done.\n"
     ]
    },
    {
     "data": {
      "text/html": [
       "<table>\n",
       "    <tr>\n",
       "        <th>USER_ID</th>\n",
       "        <th>unique_stores</th>\n",
       "    </tr>\n",
       "    <tr>\n",
       "        <td>65cd1a2816cc391732119c3a</td>\n",
       "        <td>5</td>\n",
       "    </tr>\n",
       "    <tr>\n",
       "        <td>6345dbb11aaccf0b216cea6b</td>\n",
       "        <td>5</td>\n",
       "    </tr>\n",
       "    <tr>\n",
       "        <td>5d48752bb292771a74207fa4</td>\n",
       "        <td>5</td>\n",
       "    </tr>\n",
       "    <tr>\n",
       "        <td>6658b5b17c0469953bfad970</td>\n",
       "        <td>4</td>\n",
       "    </tr>\n",
       "    <tr>\n",
       "        <td>65f5de7b96ce12ad907a3860</td>\n",
       "        <td>4</td>\n",
       "    </tr>\n",
       "</table>"
      ],
      "text/plain": [
       "[('65cd1a2816cc391732119c3a', 5),\n",
       " ('6345dbb11aaccf0b216cea6b', 5),\n",
       " ('5d48752bb292771a74207fa4', 5),\n",
       " ('6658b5b17c0469953bfad970', 4),\n",
       " ('65f5de7b96ce12ad907a3860', 4)]"
      ]
     },
     "execution_count": 54,
     "metadata": {},
     "output_type": "execute_result"
    }
   ],
   "source": [
    "%%sql\n",
    "SELECT \n",
    "    user_id, \n",
    "    COUNT(DISTINCT store_name) AS unique_stores\n",
    "FROM transactions\n",
    "GROUP BY 1\n",
    "ORDER BY 2 DESC\n",
    "LIMIT 5;"
   ]
  },
  {
   "cell_type": "markdown",
   "metadata": {},
   "source": [
    "#### Calculate weighted metric for evaluating power\n",
    "I used this table to calculate user power:\n",
    "\n",
    "| Normalized Metric       | Weight |\n",
    "|-------------------------|--------|\n",
    "| Total Receipt Count     | 30%    |\n",
    "| Total Spent Per Receipt | 25%    |\n",
    "| Brand Diversity         | 10%    |\n",
    "| Active Period           | 20%    |\n",
    "| Store Variety           | 15%    |\n",
    "| Total                   | 100%   |"
   ]
  },
  {
   "cell_type": "code",
   "execution_count": 29,
   "metadata": {},
   "outputs": [
    {
     "name": "stdout",
     "output_type": "stream",
     "text": [
      " * sqlite:///../data/fetch_data.db\n",
      "Done.\n"
     ]
    },
    {
     "data": {
      "text/html": [
       "<table>\n",
       "    <tr>\n",
       "        <th>user_id</th>\n",
       "        <th>user_power_score</th>\n",
       "    </tr>\n",
       "    <tr>\n",
       "        <td>64e62de5ca929250373e6cf5</td>\n",
       "        <td>0.6</td>\n",
       "    </tr>\n",
       "    <tr>\n",
       "        <td>61545c3b504f3536dc3423b6</td>\n",
       "        <td>0.46</td>\n",
       "    </tr>\n",
       "    <tr>\n",
       "        <td>5dfc40157bfa801226bde4fc</td>\n",
       "        <td>0.45</td>\n",
       "    </tr>\n",
       "    <tr>\n",
       "        <td>5f96fd5855f095164febccb1</td>\n",
       "        <td>0.45</td>\n",
       "    </tr>\n",
       "    <tr>\n",
       "        <td>602fd66ad039b712eaa18cf6</td>\n",
       "        <td>0.45</td>\n",
       "    </tr>\n",
       "</table>"
      ],
      "text/plain": [
       "[('64e62de5ca929250373e6cf5', 0.6),\n",
       " ('61545c3b504f3536dc3423b6', 0.46),\n",
       " ('5dfc40157bfa801226bde4fc', 0.45),\n",
       " ('5f96fd5855f095164febccb1', 0.45),\n",
       " ('602fd66ad039b712eaa18cf6', 0.45)]"
      ]
     },
     "execution_count": 29,
     "metadata": {},
     "output_type": "execute_result"
    }
   ],
   "source": [
    "%%sql\n",
    "WITH total_receipts AS (\n",
    "    SELECT\n",
    "        user_id,\n",
    "        COUNT(DISTINCT receipt_id) AS total_receipts\n",
    "    FROM transactions\n",
    "    GROUP BY user_id\n",
    "),\n",
    "\n",
    "total_spent_per_receipt AS (\n",
    "    SELECT\n",
    "        user_id,\n",
    "        SUM(final_sale) / COUNT(DISTINCT receipt_id) AS total_spent_per_receipt\n",
    "    FROM transactions\n",
    "    GROUP BY user_id\n",
    "),\n",
    "\n",
    "unique_brands AS (\n",
    "    SELECT\n",
    "        t.user_id,\n",
    "        COUNT(DISTINCT p.brand) AS unique_brands\n",
    "    FROM transactions t\n",
    "    JOIN products p ON t.barcode = p.barcode\n",
    "    GROUP BY t.user_id\n",
    "),\n",
    "\n",
    "active_months AS (\n",
    "    SELECT\n",
    "        user_id,\n",
    "        COUNT(DISTINCT strftime('%Y-%m', scan_date)) AS active_months\n",
    "    FROM transactions\n",
    "    GROUP BY user_id\n",
    "),\n",
    "\n",
    "unique_stores AS (\n",
    "    SELECT\n",
    "        user_id,\n",
    "        COUNT(DISTINCT store_name) AS unique_stores\n",
    "    FROM transactions\n",
    "    GROUP BY user_id\n",
    "),\n",
    "\n",
    "metric_ranges AS (\n",
    "    SELECT\n",
    "        MAX(tr.total_receipts) - MIN(tr.total_receipts) AS range_total_receipts,\n",
    "        MAX(tspr.total_spent_per_receipt) - MIN(tspr.total_spent_per_receipt) AS range_total_spent_per_receipt,\n",
    "        MAX(ub.unique_brands) - MIN(ub.unique_brands) AS range_unique_brands,\n",
    "        MAX(am.active_months) - MIN(am.active_months) AS range_active_months,\n",
    "        MAX(us.unique_stores) - MIN(us.unique_stores) AS range_unique_stores\n",
    "    FROM total_receipts tr\n",
    "    JOIN total_spent_per_receipt tspr ON tr.user_id = tspr.user_id\n",
    "    JOIN unique_brands ub ON tr.user_id = ub.user_id\n",
    "    JOIN active_months am ON tr.user_id = am.user_id\n",
    "    JOIN unique_stores us ON tr.user_id = us.user_id\n",
    "),\n",
    "\n",
    "normalized_metrics AS (\n",
    "    SELECT\n",
    "        tr.user_id,\n",
    "        tr.total_receipts / NULLIF(mr.range_total_receipts, 0) AS normalized_total_receipts,\n",
    "        tspr.total_spent_per_receipt / NULLIF(mr.range_total_spent_per_receipt, 0) AS normalized_total_spent_per_receipt,\n",
    "        ub.unique_brands / NULLIF(mr.range_unique_brands, 0) AS normalized_unique_brands,\n",
    "        am.active_months / NULLIF(mr.range_active_months, 0) AS normalized_active_months,\n",
    "        us.unique_stores / NULLIF(mr.range_unique_stores, 0) AS normalized_unique_stores\n",
    "    FROM total_receipts tr\n",
    "    JOIN total_spent_per_receipt tspr ON tr.user_id = tspr.user_id\n",
    "    JOIN unique_brands ub ON tr.user_id = ub.user_id\n",
    "    JOIN active_months am ON tr.user_id = am.user_id\n",
    "    JOIN unique_stores us ON tr.user_id = us.user_id\n",
    "    CROSS JOIN metric_ranges mr\n",
    ")\n",
    "\n",
    "SELECT\n",
    "    user_id,\n",
    "    ROUND(\n",
    "        normalized_total_receipts * 0.3 +\n",
    "        normalized_total_spent_per_receipt * 0.25 +\n",
    "        normalized_unique_brands * 0.1 +\n",
    "        normalized_active_months * 0.2 +\n",
    "        normalized_unique_stores * 0.15, 2\n",
    "    ) AS user_power_score\n",
    "FROM normalized_metrics\n",
    "ORDER BY user_power_score DESC\n",
    "LIMIT 5;"
   ]
  },
  {
   "cell_type": "markdown",
   "metadata": {},
   "source": [
    "### Which is the leading brand in the Dips & Salsa category?"
   ]
  },
  {
   "cell_type": "markdown",
   "metadata": {},
   "source": [
    "#### Metric 1: Total Sales\n",
    "This metric describes the product positioning and the popularity."
   ]
  },
  {
   "cell_type": "code",
   "execution_count": 62,
   "metadata": {},
   "outputs": [
    {
     "name": "stdout",
     "output_type": "stream",
     "text": [
      " * sqlite:///../data/fetch_data.db\n",
      "Done.\n"
     ]
    },
    {
     "data": {
      "text/html": [
       "<table>\n",
       "    <tr>\n",
       "        <th>BRAND</th>\n",
       "        <th>total_sales</th>\n",
       "    </tr>\n",
       "    <tr>\n",
       "        <td>TOSTITOS</td>\n",
       "        <td>69062.15</td>\n",
       "    </tr>\n",
       "    <tr>\n",
       "        <td>OLD EL PASO</td>\n",
       "        <td>55249.72</td>\n",
       "    </tr>\n",
       "    <tr>\n",
       "        <td>FRITOS</td>\n",
       "        <td>55249.72</td>\n",
       "    </tr>\n",
       "    <tr>\n",
       "        <td>FRESH CRAVINGS</td>\n",
       "        <td>55249.72</td>\n",
       "    </tr>\n",
       "    <tr>\n",
       "        <td>WHOLLY</td>\n",
       "        <td>41437.29</td>\n",
       "    </tr>\n",
       "</table>"
      ],
      "text/plain": [
       "[('TOSTITOS', 69062.15),\n",
       " ('OLD EL PASO', 55249.72),\n",
       " ('FRITOS', 55249.72),\n",
       " ('FRESH CRAVINGS', 55249.72),\n",
       " ('WHOLLY', 41437.29)]"
      ]
     },
     "execution_count": 62,
     "metadata": {},
     "output_type": "execute_result"
    }
   ],
   "source": [
    "%%sql\n",
    "SELECT\n",
    "    p.brand,\n",
    "    SUM(t.final_sale) AS total_sales\n",
    "FROM transactions t\n",
    "JOIN products p ON t.barcode = p.barcode\n",
    "WHERE p.category_2 = 'Dips & Salsa'\n",
    "    AND p.brand IS NOT NULL\n",
    "    AND TRIM(p.brand) <> ''\n",
    "GROUP BY 1\n",
    "ORDER BY 2 DESC\n",
    "LIMIT 5;"
   ]
  },
  {
   "cell_type": "markdown",
   "metadata": {},
   "source": [
    "#### Metric 2: Total Quantity\n",
    "This metric is more focused on popularity compared to the total sales."
   ]
  },
  {
   "cell_type": "code",
   "execution_count": 64,
   "metadata": {},
   "outputs": [
    {
     "name": "stdout",
     "output_type": "stream",
     "text": [
      " * sqlite:///../data/fetch_data.db\n",
      "Done.\n"
     ]
    },
    {
     "data": {
      "text/html": [
       "<table>\n",
       "    <tr>\n",
       "        <th>BRAND</th>\n",
       "        <th>total_quantities</th>\n",
       "    </tr>\n",
       "    <tr>\n",
       "        <td>TOSTITOS</td>\n",
       "        <td>15186.75</td>\n",
       "    </tr>\n",
       "    <tr>\n",
       "        <td>OLD EL PASO</td>\n",
       "        <td>12149.4</td>\n",
       "    </tr>\n",
       "    <tr>\n",
       "        <td>FRITOS</td>\n",
       "        <td>12149.4</td>\n",
       "    </tr>\n",
       "    <tr>\n",
       "        <td>FRESH CRAVINGS</td>\n",
       "        <td>12149.4</td>\n",
       "    </tr>\n",
       "    <tr>\n",
       "        <td>WHOLLY</td>\n",
       "        <td>9112.05</td>\n",
       "    </tr>\n",
       "</table>"
      ],
      "text/plain": [
       "[('TOSTITOS', 15186.75),\n",
       " ('OLD EL PASO', 12149.4),\n",
       " ('FRITOS', 12149.4),\n",
       " ('FRESH CRAVINGS', 12149.4),\n",
       " ('WHOLLY', 9112.05)]"
      ]
     },
     "execution_count": 64,
     "metadata": {},
     "output_type": "execute_result"
    }
   ],
   "source": [
    "%%sql\n",
    "SELECT\n",
    "    p.brand,\n",
    "    SUM(t.final_quantity) AS total_quantities\n",
    "FROM transactions t\n",
    "JOIN products p ON t.barcode = p.barcode\n",
    "WHERE p.category_2 = 'Dips & Salsa'\n",
    "    AND p.brand IS NOT NULL\n",
    "    AND TRIM(p.brand) <> ''\n",
    "GROUP BY 1\n",
    "ORDER BY 2 DESC\n",
    "LIMIT 5;"
   ]
  },
  {
   "cell_type": "markdown",
   "metadata": {},
   "source": [
    "#### Metric 3: Total User\n",
    "A brand with more users should be more powerful.\n",
    "\n",
    "(In this case, the data exhibits a consistent pattern, which could indicate a potential error.)"
   ]
  },
  {
   "cell_type": "code",
   "execution_count": 66,
   "metadata": {},
   "outputs": [
    {
     "name": "stdout",
     "output_type": "stream",
     "text": [
      " * sqlite:///../data/fetch_data.db\n",
      "Done.\n"
     ]
    },
    {
     "data": {
      "text/html": [
       "<table>\n",
       "    <tr>\n",
       "        <th>BRAND</th>\n",
       "        <th>total_users</th>\n",
       "    </tr>\n",
       "    <tr>\n",
       "        <td>WHOLLY</td>\n",
       "        <td>2594</td>\n",
       "    </tr>\n",
       "    <tr>\n",
       "        <td>VELVEETA</td>\n",
       "        <td>2594</td>\n",
       "    </tr>\n",
       "    <tr>\n",
       "        <td>TOSTITOS</td>\n",
       "        <td>2594</td>\n",
       "    </tr>\n",
       "    <tr>\n",
       "        <td>SABRITAS</td>\n",
       "        <td>2594</td>\n",
       "    </tr>\n",
       "    <tr>\n",
       "        <td>RUFFLES</td>\n",
       "        <td>2594</td>\n",
       "    </tr>\n",
       "</table>"
      ],
      "text/plain": [
       "[('WHOLLY', 2594),\n",
       " ('VELVEETA', 2594),\n",
       " ('TOSTITOS', 2594),\n",
       " ('SABRITAS', 2594),\n",
       " ('RUFFLES', 2594)]"
      ]
     },
     "execution_count": 66,
     "metadata": {},
     "output_type": "execute_result"
    }
   ],
   "source": [
    "%%sql\n",
    "SELECT\n",
    "    p.brand,\n",
    "    COUNT(DISTINCT t.user_id) AS total_users\n",
    "FROM transactions t\n",
    "JOIN products p ON t.barcode = p.barcode\n",
    "WHERE p.category_2 = 'Dips & Salsa'\n",
    "    AND p.brand IS NOT NULL\n",
    "    AND TRIM(p.brand) <> ''\n",
    "GROUP BY 1\n",
    "ORDER BY 2 DESC\n",
    "LIMIT 5;"
   ]
  },
  {
   "cell_type": "markdown",
   "metadata": {},
   "source": [
    "#### Metric 4: Total Frequent User\n",
    "This metrics describes the user loyalty of the brand.\n",
    "\n",
    "(In this case, the data exhibits a consistent pattern, which could indicate a potential error.)"
   ]
  },
  {
   "cell_type": "code",
   "execution_count": 15,
   "metadata": {},
   "outputs": [
    {
     "name": "stdout",
     "output_type": "stream",
     "text": [
      " * sqlite:///../data/fetch_data.db\n",
      "Done.\n"
     ]
    },
    {
     "data": {
      "text/html": [
       "<table>\n",
       "    <tr>\n",
       "        <th>BRAND</th>\n",
       "        <th>total_users</th>\n",
       "    </tr>\n",
       "    <tr>\n",
       "        <td>WHOLLY</td>\n",
       "        <td>2</td>\n",
       "    </tr>\n",
       "    <tr>\n",
       "        <td>VELVEETA</td>\n",
       "        <td>2</td>\n",
       "    </tr>\n",
       "    <tr>\n",
       "        <td>TOSTITOS</td>\n",
       "        <td>2</td>\n",
       "    </tr>\n",
       "    <tr>\n",
       "        <td>SABRITAS</td>\n",
       "        <td>2</td>\n",
       "    </tr>\n",
       "    <tr>\n",
       "        <td>RUFFLES</td>\n",
       "        <td>2</td>\n",
       "    </tr>\n",
       "</table>"
      ],
      "text/plain": [
       "[('WHOLLY', 2),\n",
       " ('VELVEETA', 2),\n",
       " ('TOSTITOS', 2),\n",
       " ('SABRITAS', 2),\n",
       " ('RUFFLES', 2)]"
      ]
     },
     "execution_count": 15,
     "metadata": {},
     "output_type": "execute_result"
    }
   ],
   "source": [
    "%%sql\n",
    "WITH user_purchases AS (\n",
    "    SELECT\n",
    "        t.user_id,\n",
    "        t.barcode,\n",
    "        COUNT(DISTINCT t.receipt_id) AS total_receipts  -- Count distinct receipts, not brands\n",
    "    FROM transactions t\n",
    "    JOIN products p ON t.barcode = p.barcode\n",
    "    WHERE p.category_2 = 'Dips & Salsa'\n",
    "        AND p.brand IS NOT NULL\n",
    "        AND TRIM(p.brand) <> ''\n",
    "    GROUP BY 1, 2\n",
    ")\n",
    "SELECT\n",
    "    p.brand,\n",
    "    COUNT(DISTINCT up.user_id) AS total_users\n",
    "FROM user_purchases up\n",
    "JOIN products p ON up.barcode = p.barcode\n",
    "WHERE p.category_2 = 'Dips & Salsa'\n",
    "    AND p.brand IS NOT NULL\n",
    "    AND TRIM(p.brand) <> ''\n",
    "    AND up.total_receipts > 5  -- Ensure users have more than 5 receipts\n",
    "GROUP BY 1\n",
    "ORDER BY 2 DESC\n",
    "LIMIT 5;"
   ]
  },
  {
   "cell_type": "markdown",
   "metadata": {},
   "source": [
    "#### Metric 5: Total User States\n",
    "This metric describes how broad the brand covers geographically.\n",
    "\n",
    "(In this case, the data exhibits a consistent pattern, which could indicate a potential error.)"
   ]
  },
  {
   "cell_type": "code",
   "execution_count": 16,
   "metadata": {},
   "outputs": [
    {
     "name": "stdout",
     "output_type": "stream",
     "text": [
      " * sqlite:///../data/fetch_data.db\n",
      "Done.\n"
     ]
    },
    {
     "data": {
      "text/html": [
       "<table>\n",
       "    <tr>\n",
       "        <th>BRAND</th>\n",
       "        <th>total_states</th>\n",
       "    </tr>\n",
       "    <tr>\n",
       "        <td>WHOLLY</td>\n",
       "        <td>10</td>\n",
       "    </tr>\n",
       "    <tr>\n",
       "        <td>VELVEETA</td>\n",
       "        <td>10</td>\n",
       "    </tr>\n",
       "    <tr>\n",
       "        <td>TOSTITOS</td>\n",
       "        <td>10</td>\n",
       "    </tr>\n",
       "    <tr>\n",
       "        <td>SABRITAS</td>\n",
       "        <td>10</td>\n",
       "    </tr>\n",
       "    <tr>\n",
       "        <td>RUFFLES</td>\n",
       "        <td>10</td>\n",
       "    </tr>\n",
       "</table>"
      ],
      "text/plain": [
       "[('WHOLLY', 10),\n",
       " ('VELVEETA', 10),\n",
       " ('TOSTITOS', 10),\n",
       " ('SABRITAS', 10),\n",
       " ('RUFFLES', 10)]"
      ]
     },
     "execution_count": 16,
     "metadata": {},
     "output_type": "execute_result"
    }
   ],
   "source": [
    "%%sql\n",
    "SELECT\n",
    "    p.brand,\n",
    "    COUNT(DISTINCT u.state) AS total_states\n",
    "FROM transactions t\n",
    "JOIN products p ON t.barcode = p.barcode\n",
    "JOIN users u ON t.user_id = u.id\n",
    "WHERE p.category_2 = 'Dips & Salsa'\n",
    "    AND p.brand IS NOT NULL\n",
    "    AND TRIM(p.brand) <> ''\n",
    "GROUP BY 1\n",
    "ORDER BY 2 DESC\n",
    "LIMIT 5;"
   ]
  },
  {
   "cell_type": "markdown",
   "metadata": {},
   "source": [
    "#### Calculate weighted metric for leading brand\n",
    "I used this table to calculate user power:\n",
    "\n",
    "| Normalized Metric   | Weight |\n",
    "|---------------------|--------|\n",
    "| Total Sales         | 10%    |\n",
    "| Total Quantity      | 25%    |\n",
    "| Total User          | 25%    |\n",
    "| Total Frequent User | 20%    |\n",
    "| Total User States   | 20%    |\n",
    "| Total               | 100%   |\n",
    "\n",
    "(In this case, the data exhibits a consistent pattern, which could indicate a potential error.)"
   ]
  },
  {
   "cell_type": "code",
   "execution_count": 35,
   "metadata": {},
   "outputs": [
    {
     "name": "stdout",
     "output_type": "stream",
     "text": [
      " * sqlite:///../data/fetch_data.db\n",
      "Done.\n"
     ]
    },
    {
     "data": {
      "text/html": [
       "<table>\n",
       "    <tr>\n",
       "        <th>brand</th>\n",
       "        <th>brand_power_score</th>\n",
       "    </tr>\n",
       "    <tr>\n",
       "        <td>TOSTITOS</td>\n",
       "        <td>6509.583328358471</td>\n",
       "    </tr>\n",
       "    <tr>\n",
       "        <td>FRESH CRAVINGS</td>\n",
       "        <td>6509.4666626867765</td>\n",
       "    </tr>\n",
       "    <tr>\n",
       "        <td>FRITOS</td>\n",
       "        <td>6509.4666626867765</td>\n",
       "    </tr>\n",
       "    <tr>\n",
       "        <td>OLD EL PASO</td>\n",
       "        <td>6509.4666626867765</td>\n",
       "    </tr>\n",
       "    <tr>\n",
       "        <td>ATHENOS</td>\n",
       "        <td>6509.349997015082</td>\n",
       "    </tr>\n",
       "</table>"
      ],
      "text/plain": [
       "[('TOSTITOS', 6509.583328358471),\n",
       " ('FRESH CRAVINGS', 6509.4666626867765),\n",
       " ('FRITOS', 6509.4666626867765),\n",
       " ('OLD EL PASO', 6509.4666626867765),\n",
       " ('ATHENOS', 6509.349997015082)]"
      ]
     },
     "execution_count": 35,
     "metadata": {},
     "output_type": "execute_result"
    }
   ],
   "source": [
    "%%sql\n",
    "WITH user_purchases AS (\n",
    "    SELECT\n",
    "        t.user_id,\n",
    "        t.barcode,\n",
    "        COUNT(DISTINCT t.receipt_id) AS total_receipts\n",
    "    FROM transactions t\n",
    "    JOIN products p ON t.barcode = p.barcode\n",
    "    WHERE p.category_2 = 'Dips & Salsa'\n",
    "        AND p.brand IS NOT NULL\n",
    "        AND TRIM(p.brand) <> ''\n",
    "    GROUP BY 1, 2\n",
    "),\n",
    "\n",
    "sales_metrics AS (\n",
    "    SELECT\n",
    "        p.brand,\n",
    "        SUM(COALESCE(t.final_sale, 0)) AS total_sales\n",
    "    FROM transactions t\n",
    "    JOIN products p ON t.barcode = p.barcode\n",
    "    WHERE p.category_2 = 'Dips & Salsa'\n",
    "        AND p.brand IS NOT NULL\n",
    "        AND TRIM(p.brand) <> ''\n",
    "    GROUP BY 1\n",
    "),\n",
    "\n",
    "quantity_metrics AS (\n",
    "    SELECT\n",
    "        p.brand,\n",
    "        SUM(COALESCE(t.final_quantity, 0)) AS total_quantities\n",
    "    FROM transactions t\n",
    "    JOIN products p ON t.barcode = p.barcode\n",
    "    WHERE p.category_2 = 'Dips & Salsa'\n",
    "        AND p.brand IS NOT NULL\n",
    "        AND TRIM(p.brand) <> ''\n",
    "    GROUP BY 1\n",
    "),\n",
    "\n",
    "user_metrics AS (\n",
    "    SELECT\n",
    "        p.brand,\n",
    "        COUNT(DISTINCT t.user_id) AS total_users\n",
    "    FROM transactions t\n",
    "    JOIN products p ON t.barcode = p.barcode\n",
    "    WHERE p.category_2 = 'Dips & Salsa'\n",
    "        AND p.brand IS NOT NULL\n",
    "        AND TRIM(p.brand) <> ''\n",
    "    GROUP BY 1 \n",
    "),\n",
    "\n",
    "frequent_user_metrics AS (\n",
    "    SELECT\n",
    "        p.brand,\n",
    "        COUNT(DISTINCT up.user_id) AS total_frequent_users\n",
    "    FROM user_purchases up\n",
    "    JOIN products p ON up.barcode = p.barcode\n",
    "    WHERE p.category_2 = 'Dips & Salsa'\n",
    "        AND p.brand IS NOT NULL\n",
    "        AND TRIM(p.brand) <> ''\n",
    "        AND up.total_receipts > 5  -- Ensure users have more than 5 receipts\n",
    "    GROUP BY 1\n",
    "),\n",
    "\n",
    "state_metrics AS (\n",
    "    SELECT\n",
    "        p.brand,\n",
    "        COUNT(DISTINCT u.state) AS total_states\n",
    "    FROM transactions t\n",
    "    JOIN products p ON t.barcode = p.barcode\n",
    "    JOIN users u ON t.user_id = u.id\n",
    "    WHERE p.category_2 = 'Dips & Salsa'\n",
    "        AND p.brand IS NOT NULL\n",
    "        AND TRIM(p.brand) <> ''\n",
    "    GROUP BY 1\n",
    "),\n",
    "\n",
    "metric_ranges AS (\n",
    "    SELECT\n",
    "        MAX(total_sales) - MIN(total_sales) + 0.1 AS range_total_sales,\n",
    "        MAX(total_quantities) - MIN(total_quantities) + 0.1 AS range_total_quantities,\n",
    "        MAX(total_users) - MIN(total_users) + 0.1 AS range_total_users,\n",
    "        MAX(total_frequent_users) - MIN(total_frequent_users) + 0.1 AS range_total_frequent_users,\n",
    "        MAX(total_states) - MIN(total_states) + 0.1 AS range_total_states\n",
    "    FROM (\n",
    "        SELECT \n",
    "            sm.total_sales,\n",
    "            qm.total_quantities,\n",
    "            um.total_users,\n",
    "            fum.total_frequent_users,\n",
    "            stm.total_states\n",
    "        FROM sales_metrics sm\n",
    "        JOIN quantity_metrics qm ON sm.brand = qm.brand\n",
    "        JOIN user_metrics um ON sm.brand = um.brand\n",
    "        JOIN frequent_user_metrics fum ON sm.brand = fum.brand\n",
    "        JOIN state_metrics stm ON sm.brand = stm.brand\n",
    "    )\n",
    "),\n",
    "\n",
    "normalized_metrics AS (\n",
    "    SELECT\n",
    "        sm.brand,\n",
    "        sm.total_sales / mr.range_total_sales AS normalized_total_sales,\n",
    "        qm.total_quantities / mr.range_total_quantities AS normalized_total_quantities,\n",
    "        um.total_users / mr.range_total_users AS normalized_total_users,\n",
    "        fum.total_frequent_users / mr.range_total_frequent_users AS normalized_total_frequent_users,\n",
    "        stm.total_states / mr.range_total_states AS normalized_total_states\n",
    "    FROM sales_metrics sm\n",
    "    JOIN quantity_metrics qm ON sm.brand = qm.brand\n",
    "    JOIN user_metrics um ON sm.brand = um.brand\n",
    "    JOIN frequent_user_metrics fum ON sm.brand = fum.brand\n",
    "    JOIN state_metrics stm ON sm.brand = stm.brand\n",
    "    CROSS JOIN metric_ranges mr\n",
    ")\n",
    "\n",
    "SELECT\n",
    "    brand,\n",
    "    normalized_total_sales * 0.1 +\n",
    "    normalized_total_quantities * 0.25 +\n",
    "    normalized_total_users * 0.25 +\n",
    "    normalized_total_frequent_users * 0.2 +\n",
    "    normalized_total_states * 0.2 AS brand_power_score\n",
    "FROM normalized_metrics\n",
    "ORDER BY brand_power_score DESC\n",
    "LIMIT 5;"
   ]
  },
  {
   "cell_type": "markdown",
   "metadata": {},
   "source": [
    "### At what percent has Fetch grown year over year?"
   ]
  },
  {
   "cell_type": "markdown",
   "metadata": {},
   "source": [
    "#### Metric 1: User Count\n",
    "\n",
    "Registered user growth is extremely important for a startup company. The more users, the more amount of data can be collected for business partners."
   ]
  },
  {
   "cell_type": "code",
   "execution_count": 28,
   "metadata": {},
   "outputs": [
    {
     "name": "stdout",
     "output_type": "stream",
     "text": [
      " * sqlite:///../data/fetch_data.db\n",
      "Done.\n"
     ]
    },
    {
     "data": {
      "text/html": [
       "<table>\n",
       "    <tr>\n",
       "        <th>account_created_year</th>\n",
       "        <th>yoy_growth_rate</th>\n",
       "    </tr>\n",
       "    <tr>\n",
       "        <td>2015</td>\n",
       "        <td>169.0</td>\n",
       "    </tr>\n",
       "    <tr>\n",
       "        <td>2016</td>\n",
       "        <td>136.25</td>\n",
       "    </tr>\n",
       "    <tr>\n",
       "        <td>2017</td>\n",
       "        <td>919.0</td>\n",
       "    </tr>\n",
       "    <tr>\n",
       "        <td>2018</td>\n",
       "        <td>335.65</td>\n",
       "    </tr>\n",
       "    <tr>\n",
       "        <td>2019</td>\n",
       "        <td>326.17</td>\n",
       "    </tr>\n",
       "    <tr>\n",
       "        <td>2020</td>\n",
       "        <td>237.02</td>\n",
       "    </tr>\n",
       "    <tr>\n",
       "        <td>2021</td>\n",
       "        <td>112.48</td>\n",
       "    </tr>\n",
       "    <tr>\n",
       "        <td>2022</td>\n",
       "        <td>138.92</td>\n",
       "    </tr>\n",
       "    <tr>\n",
       "        <td>2023</td>\n",
       "        <td>56.69</td>\n",
       "    </tr>\n",
       "    <tr>\n",
       "        <td>2024</td>\n",
       "        <td>74.21</td>\n",
       "    </tr>\n",
       "</table>"
      ],
      "text/plain": [
       "[(2015, 169.0),\n",
       " (2016, 136.25),\n",
       " (2017, 919.0),\n",
       " (2018, 335.65),\n",
       " (2019, 326.17),\n",
       " (2020, 237.02),\n",
       " (2021, 112.48),\n",
       " (2022, 138.92),\n",
       " (2023, 56.69),\n",
       " (2024, 74.21)]"
      ]
     },
     "execution_count": 28,
     "metadata": {},
     "output_type": "execute_result"
    }
   ],
   "source": [
    "%%sql\n",
    "WITH user_account_counts AS (\n",
    "    SELECT\n",
    "        COUNT(DISTINCT id) AS total_users,\n",
    "        CAST(strftime('%Y', created_date) AS INTEGER) AS account_created_year\n",
    "    FROM users\n",
    "    WHERE created_date IS NOT NULL\n",
    "    GROUP BY 2\n",
    ")\n",
    "SELECT\n",
    "    uac1.account_created_year,\n",
    "    ROUND(100.0 * uac1.total_users / NULLIF(uac2.total_users, 0) - 1, 2) AS yoy_growth_rate\n",
    "FROM user_account_counts uac1\n",
    "JOIN user_account_counts uac2\n",
    "    ON uac1.account_created_year = uac2.account_created_year + 1\n",
    "ORDER BY 1;"
   ]
  },
  {
   "cell_type": "markdown",
   "metadata": {},
   "source": [
    "#### Metric 2: Receipt Count\n",
    "The more receipts scanned, the more data collected.\n",
    "\n",
    "(In this case, only 2024 transaction records were collected in the transactions dataset so there's no output.)"
   ]
  },
  {
   "cell_type": "code",
   "execution_count": 29,
   "metadata": {},
   "outputs": [
    {
     "name": "stdout",
     "output_type": "stream",
     "text": [
      " * sqlite:///../data/fetch_data.db\n",
      "Done.\n"
     ]
    },
    {
     "data": {
      "text/html": [
       "<table>\n",
       "    <tr>\n",
       "        <th>receipt_scan_year</th>\n",
       "        <th>yoy_growth_rate</th>\n",
       "    </tr>\n",
       "</table>"
      ],
      "text/plain": [
       "[]"
      ]
     },
     "execution_count": 29,
     "metadata": {},
     "output_type": "execute_result"
    }
   ],
   "source": [
    "%%sql\n",
    "WITH receipt_counts AS (\n",
    "    SELECT\n",
    "        COUNT(DISTINCT receipt_id) AS total_receipts,\n",
    "        CAST(strftime('%Y', scan_date) AS INTEGER) AS receipt_scan_year\n",
    "    FROM transactions\n",
    "    GROUP BY 2\n",
    ")\n",
    "SELECT\n",
    "    rc1.receipt_scan_year,\n",
    "    ROUND(100.0 * rc1.total_receipts / NULLIF(rc2.total_receipts, 0) - 1, 2) AS yoy_growth_rate\n",
    "FROM receipt_counts rc1\n",
    "JOIN receipt_counts rc2\n",
    "    ON rc1.receipt_scan_year = rc2.receipt_scan_year + 1\n",
    "ORDER BY 1 DESC;"
   ]
  },
  {
   "cell_type": "markdown",
   "metadata": {},
   "source": [
    "Since the second metrics can't be collected from the existing dataset, I would use the first metric to evaluate the company growth directly.\n",
    "\n",
    "| Account Created Year | YoY Growth Rate |\n",
    "|----------------------|-----------------|\n",
    "| 2015                 | 169.0%          |\n",
    "| 2016                 | 136.25%         |\n",
    "| 2017                 | 919.0%          |\n",
    "| 2018                 | 335.65%         |\n",
    "| 2019                 | 326.17%         |\n",
    "| 2020                 | 237.02%         |\n",
    "| 2021                 | 112.48%         |\n",
    "| 2022                 | 138.92%         |\n",
    "| 2023                 | 56.69%          |\n",
    "| 2024                 | 74.21%          |\n",
    "\n",
    "\n",
    "Based on the YoY Growth data on user count, we can summarize that there are four stages of the APP development:\n",
    "1. Early Stage (2015-2016) – Initial Traction but Slowing Growth\n",
    "2. Breakthrough & Rapid Expansion (2017-2019) – App Launch Boost\n",
    "3. Maturity & Growth Plateau (2020-2022) – Slowing Expansion\n",
    "4. Recent Struggles (2023-2024) – Growth Decline"
   ]
  },
  {
   "cell_type": "code",
   "execution_count": null,
   "metadata": {},
   "outputs": [],
   "source": []
  }
 ],
 "metadata": {
  "kernelspec": {
   "display_name": "fetch_env",
   "language": "python",
   "name": "python3"
  },
  "language_info": {
   "codemirror_mode": {
    "name": "ipython",
    "version": 3
   },
   "file_extension": ".py",
   "mimetype": "text/x-python",
   "name": "python",
   "nbconvert_exporter": "python",
   "pygments_lexer": "ipython3",
   "version": "3.10.16"
  }
 },
 "nbformat": 4,
 "nbformat_minor": 2
}
